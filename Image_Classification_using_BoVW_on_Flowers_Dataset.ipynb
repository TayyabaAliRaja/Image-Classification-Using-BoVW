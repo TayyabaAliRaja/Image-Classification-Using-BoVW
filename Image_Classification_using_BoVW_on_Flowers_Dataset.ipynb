{
  "cells": [
    {
      "cell_type": "markdown",
      "metadata": {
        "id": "ynlxyDMTHH49"
      },
      "source": [
        "** **\n",
        "**Import required Libraries**\n",
        "\n",
        "\n",
        "\n",
        "\n",
        "\n",
        "\n"
      ]
    },
    {
      "cell_type": "code",
      "execution_count": 4,
      "metadata": {
        "id": "m7L2sYKcHNCZ",
        "colab": {
          "base_uri": "https://localhost:8080/"
        },
        "outputId": "f8bb9aab-2e57-49fb-f443-c860c6a02a06"
      },
      "outputs": [
        {
          "output_type": "stream",
          "name": "stdout",
          "text": [
            "Looking in indexes: https://pypi.org/simple, https://us-python.pkg.dev/colab-wheels/public/simple/\n",
            "Requirement already satisfied: split-folders in /usr/local/lib/python3.9/dist-packages (0.5.1)\n"
          ]
        }
      ],
      "source": [
        "!pip install split-folders"
      ]
    },
    {
      "cell_type": "code",
      "execution_count": 22,
      "metadata": {
        "id": "tj-uk7BK4uBA"
      },
      "outputs": [],
      "source": [
        "import cv2\n",
        "import numpy as np\n",
        "import zipfile\n",
        "import matplotlib.pyplot as plt\n",
        "from sklearn.cluster import KMeans\n",
        "from sklearn.svm import SVC\n",
        "from sklearn.metrics import accuracy_score\n",
        "from sklearn.ensemble import RandomForestClassifier\n",
        "import joblib\n",
        "from sklearn.model_selection import train_test_split\n",
        "import splitfolders  # or import split_folders\n",
        "import os\n",
        "import random\n",
        "import pylab as pl\n",
        "from sklearn.metrics import confusion_matrix, accuracy_score \n"
      ]
    },
    {
      "cell_type": "markdown",
      "metadata": {
        "id": "-z8UeoMjbsfK"
      },
      "source": [
        "Mount Google *Drive* to upload Data"
      ]
    },
    {
      "cell_type": "code",
      "execution_count": null,
      "metadata": {
        "colab": {
          "background_save": true,
          "base_uri": "https://localhost:8080/"
        },
        "id": "zOgKVHXhbxPy",
        "outputId": "5373a276-575c-4b05-9491-9ef432e3cd93"
      },
      "outputs": [
        {
          "name": "stdout",
          "output_type": "stream",
          "text": [
            "Drive already mounted at /content/drive/; to attempt to forcibly remount, call drive.mount(\"/content/drive/\", force_remount=True).\n"
          ]
        }
      ],
      "source": [
        "\n",
        "from google.colab import drive\n",
        "drive.mount('/content/drive/')\n",
        "     "
      ]
    },
    {
      "cell_type": "code",
      "execution_count": null,
      "metadata": {
        "id": "eQ5djSMzcY6V"
      },
      "outputs": [],
      "source": [
        "!unzip -q '/flower_photos.zip'"
      ]
    },
    {
      "cell_type": "markdown",
      "metadata": {
        "id": "7cLszVSzPht7"
      },
      "source": [
        "Data Loading & Test-Train Splitting"
      ]
    },
    {
      "cell_type": "code",
      "execution_count": null,
      "metadata": {
        "id": "9gyzDgFoX7Fx"
      },
      "outputs": [],
      "source": [
        "#Path of data set\n",
        "input_folder = '/content/flower_photos' \n",
        "\n",
        "#Split the data into train, val, test with the ratio of 0.7,0.2,0.1\n",
        "splitfolders.ratio(input_folder, output='/content/drive/MyDrive/flowers',  seed=42, ratio=(.8, .2), \n",
        "                   group_prefix=None) # default values"
      ]
    },
    {
      "cell_type": "markdown",
      "metadata": {
        "id": "y4gYvcnsX-tL"
      },
      "source": []
    },
    {
      "cell_type": "code",
      "execution_count": 6,
      "metadata": {
        "colab": {
          "base_uri": "https://localhost:8080/"
        },
        "id": "4VyJ9-Vmf14O",
        "outputId": "ae7a17ad-307c-4ad2-d76d-469c59b17e07"
      },
      "outputs": [
        {
          "output_type": "stream",
          "name": "stdout",
          "text": [
            "['daisy', 'sunflowers', 'dandelion', 'tulips', 'roses']\n",
            "5\n"
          ]
        }
      ],
      "source": [
        "#Give the path of training data\n",
        "#Get Classes\n",
        "train_path = '/content/drive/MyDrive/flowers/train'  #path of training dataset\n",
        "training_names = os.listdir(train_path) #read Training data\n",
        "print(training_names) #classes in training Data\n",
        "print(len(training_names)) #No. of classes in training data\n",
        "# Get path to all images and save them in a list\n",
        "# image_paths and the corresponding label in image_paths\n",
        "image_paths = [] #paths of all training images\n",
        "image_classes = [] #class ids of images\n",
        "class_id = 0\n",
        "#get a list of all the file paths to images in a training dataset\n",
        "#complete path to ecah image\n",
        "def imglist(path):    \n",
        "    return [os.path.join(path, f) for f in os.listdir(path)] #join class folder path with image path\n",
        "\n",
        "#Fill the placeholder empty lists with image path, classes, and add class ID number \n",
        "for training_name in training_names:\n",
        "    dir = os.path.join(train_path, training_name) #Path of each class folder\n",
        "    class_path = imglist(dir) #Path of images in eac\n",
        "    image_paths+=class_path #paths of all images\n",
        "    image_classes+=[class_id]*len(class_path) #assign a number to images of each class \n",
        "    class_id+=1"
      ]
    },
    {
      "cell_type": "code",
      "execution_count": 7,
      "metadata": {
        "id": "Q6XPySeBYKhW"
      },
      "outputs": [],
      "source": [
        "# Create feature extraction and keypoint detector objects\n",
        "# Create List where all the descriptors will be stored\n",
        "des_list = []\n",
        "\n",
        "\n",
        "sift = cv2.SIFT_create(40)\n",
        "\n",
        "for image_path in image_paths:\n",
        "    im = cv2.imread(image_path)\n",
        "    kpts, des = sift.detectAndCompute(im, None)\n",
        "    des_list.append((image_path, des))   \n",
        "    \n",
        "# Stack all the descriptors vertically in a numpy array\n",
        "descriptors = des_list[0][1]\n",
        "for image_path, descriptor in des_list[1:]:\n",
        "    descriptors = np.vstack((descriptors, descriptor))  \n",
        "\n",
        "#kmeans works only on float, so convert integers to float\n",
        "descriptors_float = descriptors.astype(float)  \n"
      ]
    },
    {
      "cell_type": "code",
      "execution_count": 27,
      "metadata": {
        "id": "WuhPLZWJYTQK",
        "colab": {
          "base_uri": "https://localhost:8080/",
          "height": 484
        },
        "outputId": "e89f6e62-880a-4547-9178-52218ae5be43"
      },
      "outputs": [
        {
          "output_type": "stream",
          "name": "stderr",
          "text": [
            "/usr/local/lib/python3.9/dist-packages/sklearn/cluster/_kmeans.py:870: FutureWarning: The default value of `n_init` will change from 10 to 'auto' in 1.4. Set the value of `n_init` explicitly to suppress the warning\n",
            "  warnings.warn(\n",
            "/usr/local/lib/python3.9/dist-packages/sklearn/cluster/_kmeans.py:870: FutureWarning: The default value of `n_init` will change from 10 to 'auto' in 1.4. Set the value of `n_init` explicitly to suppress the warning\n",
            "  warnings.warn(\n",
            "/usr/local/lib/python3.9/dist-packages/sklearn/cluster/_kmeans.py:870: FutureWarning: The default value of `n_init` will change from 10 to 'auto' in 1.4. Set the value of `n_init` explicitly to suppress the warning\n",
            "  warnings.warn(\n",
            "/usr/local/lib/python3.9/dist-packages/sklearn/cluster/_kmeans.py:870: FutureWarning: The default value of `n_init` will change from 10 to 'auto' in 1.4. Set the value of `n_init` explicitly to suppress the warning\n",
            "  warnings.warn(\n",
            "/usr/local/lib/python3.9/dist-packages/sklearn/cluster/_kmeans.py:870: FutureWarning: The default value of `n_init` will change from 10 to 'auto' in 1.4. Set the value of `n_init` explicitly to suppress the warning\n",
            "  warnings.warn(\n"
          ]
        },
        {
          "output_type": "display_data",
          "data": {
            "text/plain": [
              "<Figure size 432x288 with 1 Axes>"
            ],
            "image/png": "[encoded data removed]"
          },
          "metadata": {
            "needs_background": "light"
          }
        }
      ],
      "source": [
        "#find optimal number of clusters using elbow method\n",
        "def OptClusters(descriptors_float,N):\n",
        "    from sklearn.cluster import KMeans\n",
        "    sse = {}\n",
        "    for k in range(1, N ,100):\n",
        "        km = KMeans(n_clusters=k, max_iter=1000).fit(descriptors_float)\n",
        "        sse[k] = km.inertia_\n",
        "    \n",
        "    # Plot SSE against k\n",
        "    plt.figure()\n",
        "    plt.plot(list(sse.keys()), list(sse.values()))\n",
        "    plt.xlabel(\"Number of clusters (k)\")\n",
        "    plt.ylabel(\"Sum of Squared Errors (SSE)\")\n",
        "    plt.show()\n",
        "OptClusters(descriptors_float,500)"
      ]
    },
    {
      "cell_type": "code",
      "execution_count": 8,
      "metadata": {
        "id": "ZAujsUULZ2tg"
      },
      "outputs": [],
      "source": [
        "# Perform k-means clustering and vector quantization\n",
        "from scipy.cluster.vq import kmeans, vq\n",
        "\n",
        "k = 100  #k means with 100 clusters is the elbow point\n",
        "voc, variance = kmeans(descriptors_float, k, 1) #voc is cluster centre"
      ]
    },
    {
      "cell_type": "code",
      "execution_count": 9,
      "metadata": {
        "id": "l3jxW1DCZ7Kl"
      },
      "outputs": [],
      "source": [
        "# Calculate the histogram of features and represent them as vector\n",
        "#vq Assigns codes from a code book to observations.\n",
        "im_features = np.zeros((len(image_paths), k), \"float32\")  # Initialize an empty numpy array to store the histogram of visual word occurrences for each image\n",
        "for i in range(len(image_paths)):  # Loop through each image in the dataset\n",
        "    words, distance = vq(des_list[i][1],voc)  # Quantize the descriptors of the current image using the visual vocabulary\n",
        "    for w in words:  # Loop through the visual words in the quantized descriptor array\n",
        "        im_features[i][w] += 1  # Increment the corresponding bin in the histogram of visual word occurrences\n",
        "\n",
        "# Perform Tf-Idf vectorization\n",
        "nbr_occurences = np.sum( (im_features > 0) * 1, axis = 0)\n",
        "idf = np.array(np.log((1.0*len(image_paths)+1) / (1.0*nbr_occurences + 1)), 'float32')\n",
        "\n",
        "# Scaling the words\n",
        "#Standardize features by removing the mean and scaling to unit variance\n",
        "#In a way normalization\n",
        "from sklearn.preprocessing import StandardScaler\n",
        "stdSlr = StandardScaler().fit(im_features)\n",
        "im_features = stdSlr.transform(im_features)\n",
        "\n"
      ]
    },
    {
      "cell_type": "code",
      "execution_count": 11,
      "metadata": {
        "id": "3juEusfXZ_cM",
        "colab": {
          "base_uri": "https://localhost:8080/",
          "height": 144
        },
        "outputId": "9874ce3c-55e1-445b-b0c3-c783e372bcc5"
      },
      "outputs": [
        {
          "output_type": "stream",
          "name": "stdout",
          "text": [
            "Best gamma: 0.1\n",
            "Best C: 1\n",
            "Best kernel: linear\n",
            "Best cross-validation score: 0.45228994540412\n"
          ]
        },
        {
          "output_type": "execute_result",
          "data": {
            "text/plain": [
              "SVC(C=1, gamma=0.1, kernel='linear')"
            ],
            "text/html": [
              "<style>#sk-container-id-1 {color: black;background-color: white;}#sk-container-id-1 pre{padding: 0;}#sk-container-id-1 div.sk-toggleable {background-color: white;}#sk-container-id-1 label.sk-toggleable__label {cursor: pointer;display: block;width: 100%;margin-bottom: 0;padding: 0.3em;box-sizing: border-box;text-align: center;}#sk-container-id-1 label.sk-toggleable__label-arrow:before {content: \"▸\";float: left;margin-right: 0.25em;color: #696969;}#sk-container-id-1 label.sk-toggleable__label-arrow:hover:before {color: black;}#sk-container-id-1 div.sk-estimator:hover label.sk-toggleable__label-arrow:before {color: black;}#sk-container-id-1 div.sk-toggleable__content {max-height: 0;max-width: 0;overflow: hidden;text-align: left;background-color: #f0f8ff;}#sk-container-id-1 div.sk-toggleable__content pre {margin: 0.2em;color: black;border-radius: 0.25em;background-color: #f0f8ff;}#sk-container-id-1 input.sk-toggleable__control:checked~div.sk-toggleable__content {max-height: 200px;max-width: 100%;overflow: auto;}#sk-container-id-1 input.sk-toggleable__control:checked~label.sk-toggleable__label-arrow:before {content: \"▾\";}#sk-container-id-1 div.sk-estimator input.sk-toggleable__control:checked~label.sk-toggleable__label {background-color: #d4ebff;}#sk-container-id-1 div.sk-label input.sk-toggleable__control:checked~label.sk-toggleable__label {background-color: #d4ebff;}#sk-container-id-1 input.sk-hidden--visually {border: 0;clip: rect(1px 1px 1px 1px);clip: rect(1px, 1px, 1px, 1px);height: 1px;margin: -1px;overflow: hidden;padding: 0;position: absolute;width: 1px;}#sk-container-id-1 div.sk-estimator {font-family: monospace;background-color: #f0f8ff;border: 1px dotted black;border-radius: 0.25em;box-sizing: border-box;margin-bottom: 0.5em;}#sk-container-id-1 div.sk-estimator:hover {background-color: #d4ebff;}#sk-container-id-1 div.sk-parallel-item::after {content: \"\";width: 100%;border-bottom: 1px solid gray;flex-grow: 1;}#sk-container-id-1 div.sk-label:hover label.sk-toggleable__label {background-color: #d4ebff;}#sk-container-id-1 div.sk-serial::before {content: \"\";position: absolute;border-left: 1px solid gray;box-sizing: border-box;top: 0;bottom: 0;left: 50%;z-index: 0;}#sk-container-id-1 div.sk-serial {display: flex;flex-direction: column;align-items: center;background-color: white;padding-right: 0.2em;padding-left: 0.2em;position: relative;}#sk-container-id-1 div.sk-item {position: relative;z-index: 1;}#sk-container-id-1 div.sk-parallel {display: flex;align-items: stretch;justify-content: center;background-color: white;position: relative;}#sk-container-id-1 div.sk-item::before, #sk-container-id-1 div.sk-parallel-item::before {content: \"\";position: absolute;border-left: 1px solid gray;box-sizing: border-box;top: 0;bottom: 0;left: 50%;z-index: -1;}#sk-container-id-1 div.sk-parallel-item {display: flex;flex-direction: column;z-index: 1;position: relative;background-color: white;}#sk-container-id-1 div.sk-parallel-item:first-child::after {align-self: flex-end;width: 50%;}#sk-container-id-1 div.sk-parallel-item:last-child::after {align-self: flex-start;width: 50%;}#sk-container-id-1 div.sk-parallel-item:only-child::after {width: 0;}#sk-container-id-1 div.sk-dashed-wrapped {border: 1px dashed gray;margin: 0 0.4em 0.5em 0.4em;box-sizing: border-box;padding-bottom: 0.4em;background-color: white;}#sk-container-id-1 div.sk-label label {font-family: monospace;font-weight: bold;display: inline-block;line-height: 1.2em;}#sk-container-id-1 div.sk-label-container {text-align: center;}#sk-container-id-1 div.sk-container {/* jupyter's `normalize.less` sets `[hidden] { display: none; }` but bootstrap.min.css set `[hidden] { display: none !important; }` so we also need the `!important` here to be able to override the default hidden behavior on the sphinx rendered scikit-learn.org. See: https://github.com/scikit-learn/scikit-learn/issues/21755 */display: inline-block !important;position: relative;}#sk-container-id-1 div.sk-text-repr-fallback {display: none;}</style><div id=\"sk-container-id-1\" class=\"sk-top-container\"><div class=\"sk-text-repr-fallback\"><pre>SVC(C=1, gamma=0.1, kernel=&#x27;linear&#x27;)</pre><b>In a Jupyter environment, please rerun this cell to show the HTML representation or trust the notebook. <br />On GitHub, the HTML representation is unable to render, please try loading this page with nbviewer.org.</b></div><div class=\"sk-container\" hidden><div class=\"sk-item\"><div class=\"sk-estimator sk-toggleable\"><input class=\"sk-toggleable__control sk-hidden--visually\" id=\"sk-estimator-id-1\" type=\"checkbox\" checked><label for=\"sk-estimator-id-1\" class=\"sk-toggleable__label sk-toggleable__label-arrow\">SVC</label><div class=\"sk-toggleable__content\"><pre>SVC(C=1, gamma=0.1, kernel=&#x27;linear&#x27;)</pre></div></div></div></div></div>"
            ]
          },
          "metadata": {},
          "execution_count": 11
        }
      ],
      "source": [
        "########################################\n",
        "# Define a range of possible values for gamma, C, and kernel\n",
        "from sklearn.model_selection import GridSearchCV\n",
        "from sklearn import svm\n",
        "gamma_range = [0.1, 1, 10]\n",
        "C_range = [0.1, 1, 10]\n",
        "kernel_range = ['linear', 'rbf', 'poly','sigmoid']\n",
        "# Define the SVM classifier\n",
        "clf_svm = svm.SVC()\n",
        "\n",
        "# Define the hyperparameter grid to search over\n",
        "param_grid = {'gamma': gamma_range, 'C': C_range, 'kernel': kernel_range}\n",
        "# Perform grid search cross-validation to select the best hyperparameters\n",
        "grid_search = GridSearchCV(clf_svm, param_grid, cv=5)\n",
        "grid_search.fit(im_features, np.array(image_classes))\n",
        "# Print the best hyperparameter values and the corresponding cross-validation score\n",
        "print(\"Best gamma:\", grid_search.best_params_['gamma'])\n",
        "print(\"Best C:\", grid_search.best_params_['C'])\n",
        "print(\"Best kernel:\", grid_search.best_params_['kernel'])\n",
        "print(\"Best cross-validation score:\", grid_search.best_score_)\n",
        "###########################################################\n",
        "from sklearn.svm import SVC\n",
        "# train the SVM classifier with best hyperparameters\n",
        "svm_best = SVC(C=grid_search.best_params_['C'],\n",
        "               kernel=grid_search.best_params_['kernel'],\n",
        "               gamma=grid_search.best_params_['gamma'])\n",
        "svm_best.fit(im_features, np.array(image_classes))"
      ]
    },
    {
      "cell_type": "code",
      "execution_count": 12,
      "metadata": {
        "id": "ScEx2DOSaD_e",
        "colab": {
          "base_uri": "https://localhost:8080/",
          "height": 109
        },
        "outputId": "01936417-b134-477a-c0b7-cf31decabe77"
      },
      "outputs": [
        {
          "output_type": "stream",
          "name": "stdout",
          "text": [
            "Best hyperparameters:  {'bootstrap': True, 'max_depth': 40, 'min_samples_leaf': 1, 'min_samples_split': 5, 'n_estimators': 400}\n",
            "Best score:  0.4730730096342251\n"
          ]
        },
        {
          "output_type": "execute_result",
          "data": {
            "text/plain": [
              "RandomForestClassifier(max_depth=40, min_samples_split=5, n_estimators=400)"
            ],
            "text/html": [
              "<style>#sk-container-id-2 {color: black;background-color: white;}#sk-container-id-2 pre{padding: 0;}#sk-container-id-2 div.sk-toggleable {background-color: white;}#sk-container-id-2 label.sk-toggleable__label {cursor: pointer;display: block;width: 100%;margin-bottom: 0;padding: 0.3em;box-sizing: border-box;text-align: center;}#sk-container-id-2 label.sk-toggleable__label-arrow:before {content: \"▸\";float: left;margin-right: 0.25em;color: #696969;}#sk-container-id-2 label.sk-toggleable__label-arrow:hover:before {color: black;}#sk-container-id-2 div.sk-estimator:hover label.sk-toggleable__label-arrow:before {color: black;}#sk-container-id-2 div.sk-toggleable__content {max-height: 0;max-width: 0;overflow: hidden;text-align: left;background-color: #f0f8ff;}#sk-container-id-2 div.sk-toggleable__content pre {margin: 0.2em;color: black;border-radius: 0.25em;background-color: #f0f8ff;}#sk-container-id-2 input.sk-toggleable__control:checked~div.sk-toggleable__content {max-height: 200px;max-width: 100%;overflow: auto;}#sk-container-id-2 input.sk-toggleable__control:checked~label.sk-toggleable__label-arrow:before {content: \"▾\";}#sk-container-id-2 div.sk-estimator input.sk-toggleable__control:checked~label.sk-toggleable__label {background-color: #d4ebff;}#sk-container-id-2 div.sk-label input.sk-toggleable__control:checked~label.sk-toggleable__label {background-color: #d4ebff;}#sk-container-id-2 input.sk-hidden--visually {border: 0;clip: rect(1px 1px 1px 1px);clip: rect(1px, 1px, 1px, 1px);height: 1px;margin: -1px;overflow: hidden;padding: 0;position: absolute;width: 1px;}#sk-container-id-2 div.sk-estimator {font-family: monospace;background-color: #f0f8ff;border: 1px dotted black;border-radius: 0.25em;box-sizing: border-box;margin-bottom: 0.5em;}#sk-container-id-2 div.sk-estimator:hover {background-color: #d4ebff;}#sk-container-id-2 div.sk-parallel-item::after {content: \"\";width: 100%;border-bottom: 1px solid gray;flex-grow: 1;}#sk-container-id-2 div.sk-label:hover label.sk-toggleable__label {background-color: #d4ebff;}#sk-container-id-2 div.sk-serial::before {content: \"\";position: absolute;border-left: 1px solid gray;box-sizing: border-box;top: 0;bottom: 0;left: 50%;z-index: 0;}#sk-container-id-2 div.sk-serial {display: flex;flex-direction: column;align-items: center;background-color: white;padding-right: 0.2em;padding-left: 0.2em;position: relative;}#sk-container-id-2 div.sk-item {position: relative;z-index: 1;}#sk-container-id-2 div.sk-parallel {display: flex;align-items: stretch;justify-content: center;background-color: white;position: relative;}#sk-container-id-2 div.sk-item::before, #sk-container-id-2 div.sk-parallel-item::before {content: \"\";position: absolute;border-left: 1px solid gray;box-sizing: border-box;top: 0;bottom: 0;left: 50%;z-index: -1;}#sk-container-id-2 div.sk-parallel-item {display: flex;flex-direction: column;z-index: 1;position: relative;background-color: white;}#sk-container-id-2 div.sk-parallel-item:first-child::after {align-self: flex-end;width: 50%;}#sk-container-id-2 div.sk-parallel-item:last-child::after {align-self: flex-start;width: 50%;}#sk-container-id-2 div.sk-parallel-item:only-child::after {width: 0;}#sk-container-id-2 div.sk-dashed-wrapped {border: 1px dashed gray;margin: 0 0.4em 0.5em 0.4em;box-sizing: border-box;padding-bottom: 0.4em;background-color: white;}#sk-container-id-2 div.sk-label label {font-family: monospace;font-weight: bold;display: inline-block;line-height: 1.2em;}#sk-container-id-2 div.sk-label-container {text-align: center;}#sk-container-id-2 div.sk-container {/* jupyter's `normalize.less` sets `[hidden] { display: none; }` but bootstrap.min.css set `[hidden] { display: none !important; }` so we also need the `!important` here to be able to override the default hidden behavior on the sphinx rendered scikit-learn.org. See: https://github.com/scikit-learn/scikit-learn/issues/21755 */display: inline-block !important;position: relative;}#sk-container-id-2 div.sk-text-repr-fallback {display: none;}</style><div id=\"sk-container-id-2\" class=\"sk-top-container\"><div class=\"sk-text-repr-fallback\"><pre>RandomForestClassifier(max_depth=40, min_samples_split=5, n_estimators=400)</pre><b>In a Jupyter environment, please rerun this cell to show the HTML representation or trust the notebook. <br />On GitHub, the HTML representation is unable to render, please try loading this page with nbviewer.org.</b></div><div class=\"sk-container\" hidden><div class=\"sk-item\"><div class=\"sk-estimator sk-toggleable\"><input class=\"sk-toggleable__control sk-hidden--visually\" id=\"sk-estimator-id-2\" type=\"checkbox\" checked><label for=\"sk-estimator-id-2\" class=\"sk-toggleable__label sk-toggleable__label-arrow\">RandomForestClassifier</label><div class=\"sk-toggleable__content\"><pre>RandomForestClassifier(max_depth=40, min_samples_split=5, n_estimators=400)</pre></div></div></div></div></div>"
            ]
          },
          "metadata": {},
          "execution_count": 12
        }
      ],
      "source": [
        "##############################################################\n",
        "#Train Random forest to compare how it does against SVM\n",
        "from sklearn.ensemble import RandomForestClassifier\n",
        "#clf_rf = RandomForestClassifier(n_estimators = 100, random_state=30)\n",
        "#clf_rf.fit(im_features, np.array(image_classes))\n",
        "\n",
        "# create random forest classifier\n",
        "clf_rf = RandomForestClassifier()\n",
        "\n",
        "# specify hyperparameters to tune and their possible values\n",
        "param_grid = {\n",
        "    'n_estimators': [100, 200,300,400, 500],\n",
        "    'max_depth': [10, 20,30, 40, 50, None],\n",
        "    'min_samples_split': [2, 5, 10],\n",
        "    'min_samples_leaf': [1, 2, 4],\n",
        "    'bootstrap': [True, False]\n",
        "}\n",
        "\n",
        "# use GridSearchCV to search for best hyperparameters\n",
        "grid_search = GridSearchCV(estimator=clf_rf, param_grid=param_grid, cv=5, n_jobs=-1)\n",
        "grid_search.fit(im_features, np.array(image_classes))\n",
        "\n",
        "\n",
        "# print best hyperparameters and their score\n",
        "print(\"Best hyperparameters: \", grid_search.best_params_)\n",
        "print(\"Best score: \", grid_search.best_score_)\n",
        "############################################\n",
        "# train the random forest classifier with best hyperparameters\n",
        "rf_best = RandomForestClassifier(n_estimators=grid_search.best_params_['n_estimators'],\n",
        "                                   max_depth=grid_search.best_params_['max_depth'],\n",
        "                                   min_samples_split=grid_search.best_params_['min_samples_split'],\n",
        "                                   min_samples_leaf=grid_search.best_params_['min_samples_leaf'],\n",
        "                                   bootstrap=grid_search.best_params_['bootstrap'])\n",
        "rf_best.fit(im_features, np.array(image_classes))"
      ]
    },
    {
      "cell_type": "code",
      "execution_count": 13,
      "metadata": {
        "id": "oKKbML1daIOh",
        "colab": {
          "base_uri": "https://localhost:8080/"
        },
        "outputId": "b5432be1-9904-4645-8aa9-cbf456aca3f4"
      },
      "outputs": [
        {
          "output_type": "execute_result",
          "data": {
            "text/plain": [
              "['bovw_rf_flowers.pkl']"
            ]
          },
          "metadata": {},
          "execution_count": 13
        }
      ],
      "source": [
        "# Save the model\n",
        "#Joblib dumps Python object into one file\n",
        "\n",
        "joblib.dump((svm_best, training_names, stdSlr, k, voc), \"bovw_svm_flowers.pkl\", compress=3)    \n",
        "joblib.dump((rf_best, training_names, stdSlr, k, voc), \"bovw_rf_flowers.pkl\", compress=3)    \n"
      ]
    },
    {
      "cell_type": "code",
      "source": [
        "# Load the classifier, class names, scaler, number of clusters and vocabulary \n",
        "#from stored pickle file (generated during training)\n",
        "clf_svm, classes_names_svm, stdSlr_svm, k_svm, voc_svm = joblib.load(\"bovw_svm_flowers.pkl\")\n",
        "clf_rf , classes_names_rf , stdSlr_rf , k_rf , voc_rf = joblib.load(\"bovw_rf_flowers.pkl\")"
      ],
      "metadata": {
        "id": "OQLoTKVxvvJx"
      },
      "execution_count": 14,
      "outputs": []
    },
    {
      "cell_type": "code",
      "source": [
        "# Get the path of the testing image(s) and store them in a list\n",
        "test_path =  '/content/drive/MyDrive/flowers/val'   # Folder Names are Parasitized and Uninfected\n",
        "#instead of test if you use train then we get great accuracy\n",
        "testing_names = os.listdir(test_path)\n",
        "# Get path to all images and save them in a list\n",
        "# image_paths and the corresponding label in image_paths\n",
        "image_paths = []\n",
        "image_classes = []\n",
        "class_id = 0\n",
        "\n",
        "#To make it easy to list all file names in a directory let us define a function\n",
        "#\n",
        "def imglist(path):\n",
        "    return [os.path.join(path, f) for f in os.listdir(path)]\n",
        "\n",
        "#Fill the placeholder empty lists with image path, classes, and add class ID number\n",
        "\n",
        "for testing_name in testing_names:\n",
        "    dir = os.path.join(test_path, testing_name)\n",
        "    class_path = imglist(dir)\n",
        "    image_paths+=class_path\n",
        "    image_classes+=[class_id]*len(class_path)\n",
        "    class_id+=1\n"
      ],
      "metadata": {
        "id": "51PGSds2xbr0"
      },
      "execution_count": 17,
      "outputs": []
    },
    {
      "cell_type": "code",
      "source": [
        "des_list = []\n",
        "\n",
        "sift = cv2.SIFT_create(40)\n",
        "\n",
        "for image_path in image_paths:\n",
        "    im = cv2.imread(image_path)\n",
        "    kpts, des = sift.detectAndCompute(im, None)\n",
        "    des_list.append((image_path, des))   \n",
        "    \n",
        "# Stack all the descriptors vertically in a numpy array\n",
        "descriptors = des_list[0][1]\n",
        "for image_path, descriptor in des_list[0:]:\n",
        "    descriptors = np.vstack((descriptors, descriptor)) \n",
        "\n",
        "# Calculate the histogram of features\n",
        "#vq Assigns codes from a code book to observations.\n",
        "from scipy.cluster.vq import vq    \n",
        "test_features = np.zeros((len(image_paths), k), \"float32\")\n",
        "for i in range(len(image_paths)):\n",
        "    words, distance = vq(des_list[i][1],voc)\n",
        "    for w in words:\n",
        "        test_features[i][w] += 1\n",
        "\n",
        "# Perform Tf-Idf vectorization\n",
        "nbr_occurences = np.sum( (test_features > 0) * 1, axis = 0)\n",
        "idf = np.array(np.log((1.0*len(image_paths)+1) / (1.0*nbr_occurences + 1)), 'float32')"
      ],
      "metadata": {
        "id": "5nvQDVnQx8OW"
      },
      "execution_count": 18,
      "outputs": []
    },
    {
      "cell_type": "code",
      "source": [
        "# Scale the features\n",
        "#Standardize features by removing the mean and scaling to unit variance\n",
        "#Scaler (stdSlr comes from the pickled file we imported)\n",
        "test_features = stdSlr.transform(test_features)"
      ],
      "metadata": {
        "id": "MmVNevPCyAam"
      },
      "execution_count": 19,
      "outputs": []
    },
    {
      "cell_type": "code",
      "source": [
        "#Report true class names so they can be compared with predicted classes\n",
        "true_class =  [classes_names_svm[i] for i in image_classes]\n",
        "# Perform the predictions and report predicted class names. \n",
        "predictions_svm =  [classes_names_svm[i] for i in clf_svm.predict(test_features)]\n",
        "\n",
        "\n",
        "#Print the true class and Predictions \n",
        "print (\"true_class =\"  + str(true_class))\n",
        "print (\"prediction =\"  + str(predictions_svm))\n",
        "\n",
        "###############################################\n",
        "#To make it easy to understand the accuracy let us print the confusion matrix\n",
        "\n",
        "def showconfusionmatrix(cm):\n",
        "    pl.matshow(cm)\n",
        "    pl.title('Confusion Matrix')\n",
        "    pl.colorbar()\n",
        "    pl.show()\n",
        "\n",
        "\n",
        "accuracy_svm = accuracy_score(true_class, predictions_svm)\n",
        "print (\"accuracy = \", accuracy_svm)\n",
        "cm_svm = confusion_matrix(true_class, predictions_svm)\n",
        "print (cm_svm)\n",
        "\n",
        "showconfusionmatrix(cm_svm)\n",
        "###############################################################################\n",
        "#Calculate F1 score\n",
        "from sklearn.metrics import f1_score\n",
        "\n",
        "f1_svm = f1_score(true_class, predictions_svm, average='weighted')\n",
        "print(\"F1 score for SVM:\", f1_svm)\n",
        "\n",
        "#Print classification report\n",
        "from sklearn.metrics import classification_report\n",
        "\n",
        "report_svm = classification_report(true_class, predictions_svm)\n",
        "print(report_svm)"
      ],
      "metadata": {
        "colab": {
          "base_uri": "https://localhost:8080/",
          "height": 650
        },
        "id": "QZ7xmvRcyBLX",
        "outputId": "79400943-6465-42bf-eb19-62a55f3b7381"
      },
      "execution_count": 23,
      "outputs": [
        {
          "output_type": "stream",
          "name": "stdout",
          "text": [
            "true_class =['daisy', 'daisy', 'daisy', 'daisy', 'daisy', 'daisy', 'daisy', 'daisy', 'daisy', 'daisy', 'daisy', 'daisy', 'daisy', 'daisy', 'daisy', 'daisy', 'daisy', 'daisy', 'daisy', 'daisy', 'daisy', 'daisy', 'daisy', 'daisy', 'daisy', 'daisy', 'daisy', 'daisy', 'daisy', 'daisy', 'daisy', 'daisy', 'daisy', 'daisy', 'daisy', 'daisy', 'daisy', 'daisy', 'daisy', 'daisy', 'daisy', 'daisy', 'daisy', 'daisy', 'daisy', 'daisy', 'daisy', 'daisy', 'daisy', 'daisy', 'daisy', 'daisy', 'daisy', 'daisy', 'daisy', 'daisy', 'daisy', 'daisy', 'daisy', 'daisy', 'daisy', 'daisy', 'daisy', 'daisy', 'daisy', 'daisy', 'daisy', 'daisy', 'daisy', 'daisy', 'daisy', 'daisy', 'daisy', 'daisy', 'daisy', 'daisy', 'daisy', 'daisy', 'daisy', 'daisy', 'daisy', 'daisy', 'daisy', 'daisy', 'daisy', 'daisy', 'daisy', 'daisy', 'daisy', 'daisy', 'daisy', 'daisy', 'daisy', 'daisy', 'daisy', 'daisy', 'daisy', 'daisy', 'daisy', 'daisy', 'daisy', 'daisy', 'daisy', 'daisy', 'daisy', 'daisy', 'daisy', 'daisy', 'daisy', 'daisy', 'daisy', 'daisy', 'daisy', 'daisy', 'daisy', 'daisy', 'daisy', 'daisy', 'daisy', 'daisy', 'daisy', 'daisy', 'daisy', 'daisy', 'daisy', 'daisy', 'daisy', 'sunflowers', 'sunflowers', 'sunflowers', 'sunflowers', 'sunflowers', 'sunflowers', 'sunflowers', 'sunflowers', 'sunflowers', 'sunflowers', 'sunflowers', 'sunflowers', 'sunflowers', 'sunflowers', 'sunflowers', 'sunflowers', 'sunflowers', 'sunflowers', 'sunflowers', 'sunflowers', 'sunflowers', 'sunflowers', 'sunflowers', 'sunflowers', 'sunflowers', 'sunflowers', 'sunflowers', 'sunflowers', 'sunflowers', 'sunflowers', 'sunflowers', 'sunflowers', 'sunflowers', 'sunflowers', 'sunflowers', 'sunflowers', 'sunflowers', 'sunflowers', 'sunflowers', 'sunflowers', 'sunflowers', 'sunflowers', 'sunflowers', 'sunflowers', 'sunflowers', 'sunflowers', 'sunflowers', 'sunflowers', 'sunflowers', 'sunflowers', 'sunflowers', 'sunflowers', 'sunflowers', 'sunflowers', 'sunflowers', 'sunflowers', 'sunflowers', 'sunflowers', 'sunflowers', 'sunflowers', 'sunflowers', 'sunflowers', 'sunflowers', 'sunflowers', 'sunflowers', 'sunflowers', 'sunflowers', 'sunflowers', 'sunflowers', 'sunflowers', 'sunflowers', 'sunflowers', 'sunflowers', 'sunflowers', 'sunflowers', 'sunflowers', 'sunflowers', 'sunflowers', 'sunflowers', 'sunflowers', 'sunflowers', 'sunflowers', 'sunflowers', 'sunflowers', 'sunflowers', 'sunflowers', 'sunflowers', 'sunflowers', 'sunflowers', 'sunflowers', 'sunflowers', 'sunflowers', 'sunflowers', 'sunflowers', 'sunflowers', 'sunflowers', 'sunflowers', 'sunflowers', 'sunflowers', 'sunflowers', 'sunflowers', 'sunflowers', 'sunflowers', 'sunflowers', 'sunflowers', 'sunflowers', 'sunflowers', 'sunflowers', 'sunflowers', 'sunflowers', 'sunflowers', 'sunflowers', 'sunflowers', 'sunflowers', 'sunflowers', 'sunflowers', 'sunflowers', 'sunflowers', 'sunflowers', 'sunflowers', 'sunflowers', 'sunflowers', 'sunflowers', 'sunflowers', 'sunflowers', 'sunflowers', 'sunflowers', 'sunflowers', 'sunflowers', 'sunflowers', 'sunflowers', 'sunflowers', 'sunflowers', 'sunflowers', 'sunflowers', 'sunflowers', 'sunflowers', 'sunflowers', 'sunflowers', 'sunflowers', 'dandelion', 'dandelion', 'dandelion', 'dandelion', 'dandelion', 'dandelion', 'dandelion', 'dandelion', 'dandelion', 'dandelion', 'dandelion', 'dandelion', 'dandelion', 'dandelion', 'dandelion', 'dandelion', 'dandelion', 'dandelion', 'dandelion', 'dandelion', 'dandelion', 'dandelion', 'dandelion', 'dandelion', 'dandelion', 'dandelion', 'dandelion', 'dandelion', 'dandelion', 'dandelion', 'dandelion', 'dandelion', 'dandelion', 'dandelion', 'dandelion', 'dandelion', 'dandelion', 'dandelion', 'dandelion', 'dandelion', 'dandelion', 'dandelion', 'dandelion', 'dandelion', 'dandelion', 'dandelion', 'dandelion', 'dandelion', 'dandelion', 'dandelion', 'dandelion', 'dandelion', 'dandelion', 'dandelion', 'dandelion', 'dandelion', 'dandelion', 'dandelion', 'dandelion', 'dandelion', 'dandelion', 'dandelion', 'dandelion', 'dandelion', 'dandelion', 'dandelion', 'dandelion', 'dandelion', 'dandelion', 'dandelion', 'dandelion', 'dandelion', 'dandelion', 'dandelion', 'dandelion', 'dandelion', 'dandelion', 'dandelion', 'dandelion', 'dandelion', 'dandelion', 'dandelion', 'dandelion', 'dandelion', 'dandelion', 'dandelion', 'dandelion', 'dandelion', 'dandelion', 'dandelion', 'dandelion', 'dandelion', 'dandelion', 'dandelion', 'dandelion', 'dandelion', 'dandelion', 'dandelion', 'dandelion', 'dandelion', 'dandelion', 'dandelion', 'dandelion', 'dandelion', 'dandelion', 'dandelion', 'dandelion', 'dandelion', 'dandelion', 'dandelion', 'dandelion', 'dandelion', 'dandelion', 'dandelion', 'dandelion', 'dandelion', 'dandelion', 'dandelion', 'dandelion', 'dandelion', 'dandelion', 'dandelion', 'dandelion', 'dandelion', 'dandelion', 'dandelion', 'dandelion', 'dandelion', 'dandelion', 'dandelion', 'dandelion', 'dandelion', 'dandelion', 'dandelion', 'dandelion', 'dandelion', 'dandelion', 'dandelion', 'dandelion', 'dandelion', 'dandelion', 'dandelion', 'dandelion', 'dandelion', 'dandelion', 'dandelion', 'dandelion', 'dandelion', 'dandelion', 'dandelion', 'dandelion', 'dandelion', 'dandelion', 'dandelion', 'dandelion', 'dandelion', 'dandelion', 'dandelion', 'dandelion', 'dandelion', 'dandelion', 'dandelion', 'dandelion', 'dandelion', 'dandelion', 'dandelion', 'dandelion', 'dandelion', 'dandelion', 'dandelion', 'dandelion', 'dandelion', 'dandelion', 'dandelion', 'dandelion', 'dandelion', 'dandelion', 'dandelion', 'dandelion', 'dandelion', 'tulips', 'tulips', 'tulips', 'tulips', 'tulips', 'tulips', 'tulips', 'tulips', 'tulips', 'tulips', 'tulips', 'tulips', 'tulips', 'tulips', 'tulips', 'tulips', 'tulips', 'tulips', 'tulips', 'tulips', 'tulips', 'tulips', 'tulips', 'tulips', 'tulips', 'tulips', 'tulips', 'tulips', 'tulips', 'tulips', 'tulips', 'tulips', 'tulips', 'tulips', 'tulips', 'tulips', 'tulips', 'tulips', 'tulips', 'tulips', 'tulips', 'tulips', 'tulips', 'tulips', 'tulips', 'tulips', 'tulips', 'tulips', 'tulips', 'tulips', 'tulips', 'tulips', 'tulips', 'tulips', 'tulips', 'tulips', 'tulips', 'tulips', 'tulips', 'tulips', 'tulips', 'tulips', 'tulips', 'tulips', 'tulips', 'tulips', 'tulips', 'tulips', 'tulips', 'tulips', 'tulips', 'tulips', 'tulips', 'tulips', 'tulips', 'tulips', 'tulips', 'tulips', 'tulips', 'tulips', 'tulips', 'tulips', 'tulips', 'tulips', 'tulips', 'tulips', 'tulips', 'tulips', 'tulips', 'tulips', 'tulips', 'tulips', 'tulips', 'tulips', 'tulips', 'tulips', 'tulips', 'tulips', 'tulips', 'tulips', 'tulips', 'tulips', 'tulips', 'tulips', 'tulips', 'tulips', 'tulips', 'tulips', 'tulips', 'tulips', 'tulips', 'tulips', 'tulips', 'tulips', 'tulips', 'tulips', 'tulips', 'tulips', 'tulips', 'tulips', 'tulips', 'tulips', 'tulips', 'tulips', 'tulips', 'tulips', 'tulips', 'tulips', 'tulips', 'tulips', 'tulips', 'tulips', 'tulips', 'tulips', 'tulips', 'tulips', 'tulips', 'tulips', 'tulips', 'tulips', 'tulips', 'tulips', 'tulips', 'tulips', 'tulips', 'tulips', 'tulips', 'tulips', 'tulips', 'tulips', 'tulips', 'tulips', 'tulips', 'tulips', 'tulips', 'tulips', 'tulips', 'tulips', 'tulips', 'tulips', 'roses', 'roses', 'roses', 'roses', 'roses', 'roses', 'roses', 'roses', 'roses', 'roses', 'roses', 'roses', 'roses', 'roses', 'roses', 'roses', 'roses', 'roses', 'roses', 'roses', 'roses', 'roses', 'roses', 'roses', 'roses', 'roses', 'roses', 'roses', 'roses', 'roses', 'roses', 'roses', 'roses', 'roses', 'roses', 'roses', 'roses', 'roses', 'roses', 'roses', 'roses', 'roses', 'roses', 'roses', 'roses', 'roses', 'roses', 'roses', 'roses', 'roses', 'roses', 'roses', 'roses', 'roses', 'roses', 'roses', 'roses', 'roses', 'roses', 'roses', 'roses', 'roses', 'roses', 'roses', 'roses', 'roses', 'roses', 'roses', 'roses', 'roses', 'roses', 'roses', 'roses', 'roses', 'roses', 'roses', 'roses', 'roses', 'roses', 'roses', 'roses', 'roses', 'roses', 'roses', 'roses', 'roses', 'roses', 'roses', 'roses', 'roses', 'roses', 'roses', 'roses', 'roses', 'roses', 'roses', 'roses', 'roses', 'roses', 'roses', 'roses', 'roses', 'roses', 'roses', 'roses', 'roses', 'roses', 'roses', 'roses', 'roses', 'roses', 'roses', 'roses', 'roses', 'roses', 'roses', 'roses', 'roses', 'roses', 'roses', 'roses', 'roses', 'roses', 'roses', 'roses', 'roses', 'roses', 'roses', 'roses']\n",
            "prediction =['dandelion', 'tulips', 'roses', 'sunflowers', 'daisy', 'daisy', 'daisy', 'daisy', 'tulips', 'sunflowers', 'sunflowers', 'tulips', 'sunflowers', 'daisy', 'daisy', 'sunflowers', 'tulips', 'sunflowers', 'daisy', 'dandelion', 'sunflowers', 'daisy', 'daisy', 'tulips', 'daisy', 'tulips', 'daisy', 'daisy', 'sunflowers', 'tulips', 'daisy', 'daisy', 'roses', 'tulips', 'daisy', 'daisy', 'roses', 'roses', 'daisy', 'daisy', 'dandelion', 'daisy', 'daisy', 'sunflowers', 'daisy', 'dandelion', 'roses', 'dandelion', 'roses', 'daisy', 'roses', 'tulips', 'daisy', 'daisy', 'daisy', 'daisy', 'dandelion', 'daisy', 'daisy', 'daisy', 'dandelion', 'dandelion', 'daisy', 'sunflowers', 'daisy', 'tulips', 'daisy', 'roses', 'daisy', 'tulips', 'daisy', 'daisy', 'daisy', 'sunflowers', 'dandelion', 'sunflowers', 'daisy', 'dandelion', 'daisy', 'tulips', 'sunflowers', 'daisy', 'dandelion', 'daisy', 'sunflowers', 'daisy', 'daisy', 'dandelion', 'tulips', 'daisy', 'daisy', 'daisy', 'daisy', 'sunflowers', 'daisy', 'daisy', 'sunflowers', 'dandelion', 'dandelion', 'daisy', 'daisy', 'daisy', 'daisy', 'daisy', 'daisy', 'daisy', 'daisy', 'daisy', 'dandelion', 'daisy', 'daisy', 'sunflowers', 'daisy', 'daisy', 'daisy', 'sunflowers', 'tulips', 'daisy', 'dandelion', 'tulips', 'dandelion', 'sunflowers', 'daisy', 'daisy', 'sunflowers', 'roses', 'daisy', 'sunflowers', 'sunflowers', 'daisy', 'sunflowers', 'roses', 'sunflowers', 'sunflowers', 'sunflowers', 'sunflowers', 'dandelion', 'sunflowers', 'sunflowers', 'daisy', 'sunflowers', 'dandelion', 'tulips', 'sunflowers', 'dandelion', 'sunflowers', 'sunflowers', 'sunflowers', 'tulips', 'daisy', 'roses', 'sunflowers', 'sunflowers', 'sunflowers', 'sunflowers', 'sunflowers', 'daisy', 'dandelion', 'sunflowers', 'dandelion', 'dandelion', 'sunflowers', 'daisy', 'roses', 'sunflowers', 'tulips', 'sunflowers', 'sunflowers', 'sunflowers', 'sunflowers', 'tulips', 'roses', 'tulips', 'tulips', 'tulips', 'tulips', 'dandelion', 'sunflowers', 'tulips', 'tulips', 'dandelion', 'tulips', 'sunflowers', 'tulips', 'sunflowers', 'sunflowers', 'tulips', 'sunflowers', 'sunflowers', 'dandelion', 'dandelion', 'tulips', 'daisy', 'sunflowers', 'sunflowers', 'sunflowers', 'daisy', 'daisy', 'tulips', 'roses', 'sunflowers', 'dandelion', 'tulips', 'dandelion', 'sunflowers', 'sunflowers', 'sunflowers', 'sunflowers', 'daisy', 'sunflowers', 'sunflowers', 'daisy', 'sunflowers', 'sunflowers', 'sunflowers', 'sunflowers', 'sunflowers', 'tulips', 'dandelion', 'dandelion', 'sunflowers', 'sunflowers', 'sunflowers', 'sunflowers', 'dandelion', 'sunflowers', 'sunflowers', 'daisy', 'daisy', 'sunflowers', 'sunflowers', 'tulips', 'daisy', 'sunflowers', 'sunflowers', 'tulips', 'sunflowers', 'sunflowers', 'tulips', 'daisy', 'sunflowers', 'dandelion', 'daisy', 'dandelion', 'sunflowers', 'sunflowers', 'dandelion', 'daisy', 'daisy', 'sunflowers', 'sunflowers', 'daisy', 'sunflowers', 'tulips', 'dandelion', 'sunflowers', 'sunflowers', 'sunflowers', 'tulips', 'sunflowers', 'daisy', 'sunflowers', 'tulips', 'sunflowers', 'daisy', 'roses', 'tulips', 'dandelion', 'dandelion', 'dandelion', 'dandelion', 'tulips', 'dandelion', 'dandelion', 'dandelion', 'dandelion', 'dandelion', 'dandelion', 'dandelion', 'dandelion', 'dandelion', 'tulips', 'tulips', 'dandelion', 'dandelion', 'daisy', 'tulips', 'sunflowers', 'dandelion', 'dandelion', 'dandelion', 'dandelion', 'dandelion', 'dandelion', 'sunflowers', 'dandelion', 'roses', 'dandelion', 'dandelion', 'dandelion', 'tulips', 'daisy', 'dandelion', 'dandelion', 'dandelion', 'dandelion', 'dandelion', 'dandelion', 'dandelion', 'daisy', 'dandelion', 'daisy', 'dandelion', 'tulips', 'tulips', 'sunflowers', 'daisy', 'dandelion', 'roses', 'roses', 'dandelion', 'dandelion', 'sunflowers', 'roses', 'sunflowers', 'sunflowers', 'dandelion', 'sunflowers', 'dandelion', 'dandelion', 'dandelion', 'sunflowers', 'tulips', 'dandelion', 'dandelion', 'dandelion', 'tulips', 'roses', 'daisy', 'dandelion', 'dandelion', 'dandelion', 'dandelion', 'dandelion', 'dandelion', 'dandelion', 'tulips', 'dandelion', 'dandelion', 'dandelion', 'dandelion', 'tulips', 'tulips', 'dandelion', 'dandelion', 'dandelion', 'daisy', 'tulips', 'dandelion', 'dandelion', 'dandelion', 'dandelion', 'tulips', 'tulips', 'daisy', 'dandelion', 'roses', 'dandelion', 'dandelion', 'daisy', 'dandelion', 'dandelion', 'dandelion', 'dandelion', 'daisy', 'dandelion', 'dandelion', 'tulips', 'dandelion', 'tulips', 'roses', 'dandelion', 'dandelion', 'tulips', 'tulips', 'sunflowers', 'sunflowers', 'dandelion', 'dandelion', 'tulips', 'dandelion', 'dandelion', 'sunflowers', 'dandelion', 'dandelion', 'dandelion', 'dandelion', 'daisy', 'sunflowers', 'tulips', 'sunflowers', 'daisy', 'dandelion', 'dandelion', 'daisy', 'dandelion', 'sunflowers', 'daisy', 'dandelion', 'dandelion', 'dandelion', 'dandelion', 'dandelion', 'daisy', 'dandelion', 'roses', 'dandelion', 'dandelion', 'dandelion', 'roses', 'roses', 'dandelion', 'dandelion', 'sunflowers', 'tulips', 'dandelion', 'dandelion', 'dandelion', 'sunflowers', 'dandelion', 'dandelion', 'dandelion', 'sunflowers', 'dandelion', 'dandelion', 'dandelion', 'tulips', 'sunflowers', 'dandelion', 'dandelion', 'tulips', 'tulips', 'dandelion', 'sunflowers', 'dandelion', 'dandelion', 'sunflowers', 'sunflowers', 'tulips', 'daisy', 'daisy', 'tulips', 'dandelion', 'tulips', 'roses', 'tulips', 'dandelion', 'sunflowers', 'tulips', 'tulips', 'dandelion', 'tulips', 'tulips', 'tulips', 'tulips', 'tulips', 'tulips', 'roses', 'roses', 'sunflowers', 'roses', 'roses', 'dandelion', 'tulips', 'roses', 'sunflowers', 'tulips', 'sunflowers', 'tulips', 'tulips', 'daisy', 'tulips', 'roses', 'dandelion', 'tulips', 'roses', 'daisy', 'tulips', 'tulips', 'tulips', 'tulips', 'tulips', 'roses', 'tulips', 'roses', 'tulips', 'roses', 'sunflowers', 'dandelion', 'roses', 'tulips', 'tulips', 'tulips', 'tulips', 'tulips', 'roses', 'roses', 'sunflowers', 'sunflowers', 'dandelion', 'tulips', 'daisy', 'daisy', 'tulips', 'tulips', 'sunflowers', 'dandelion', 'roses', 'dandelion', 'tulips', 'tulips', 'tulips', 'tulips', 'tulips', 'tulips', 'tulips', 'sunflowers', 'tulips', 'tulips', 'tulips', 'sunflowers', 'tulips', 'roses', 'tulips', 'dandelion', 'dandelion', 'roses', 'tulips', 'tulips', 'tulips', 'roses', 'tulips', 'tulips', 'roses', 'tulips', 'daisy', 'roses', 'tulips', 'tulips', 'tulips', 'tulips', 'tulips', 'tulips', 'daisy', 'roses', 'roses', 'dandelion', 'tulips', 'tulips', 'roses', 'tulips', 'tulips', 'roses', 'sunflowers', 'tulips', 'sunflowers', 'sunflowers', 'tulips', 'roses', 'roses', 'roses', 'dandelion', 'sunflowers', 'sunflowers', 'tulips', 'dandelion', 'tulips', 'roses', 'daisy', 'dandelion', 'dandelion', 'sunflowers', 'tulips', 'dandelion', 'tulips', 'dandelion', 'tulips', 'sunflowers', 'roses', 'sunflowers', 'tulips', 'dandelion', 'roses', 'dandelion', 'daisy', 'tulips', 'roses', 'tulips', 'sunflowers', 'tulips', 'dandelion', 'dandelion', 'tulips', 'tulips', 'tulips', 'dandelion', 'dandelion', 'tulips', 'roses', 'roses', 'sunflowers', 'tulips', 'roses', 'dandelion', 'dandelion', 'tulips', 'roses', 'sunflowers', 'dandelion', 'dandelion', 'tulips', 'tulips', 'dandelion', 'daisy', 'roses', 'tulips', 'tulips', 'roses', 'dandelion', 'sunflowers', 'roses', 'roses', 'dandelion', 'tulips', 'tulips', 'tulips', 'sunflowers', 'dandelion', 'tulips', 'roses', 'dandelion', 'daisy', 'roses', 'sunflowers', 'tulips', 'tulips', 'tulips', 'roses', 'roses', 'tulips', 'tulips', 'roses', 'daisy', 'roses', 'daisy', 'roses', 'dandelion', 'dandelion', 'dandelion', 'tulips', 'dandelion', 'tulips', 'daisy', 'roses', 'sunflowers', 'roses', 'roses', 'roses', 'roses', 'roses', 'tulips', 'roses', 'tulips', 'tulips', 'tulips', 'roses', 'tulips', 'sunflowers', 'daisy', 'roses', 'tulips', 'tulips', 'roses', 'roses', 'roses', 'tulips', 'roses', 'tulips', 'roses', 'dandelion', 'tulips', 'dandelion', 'tulips', 'tulips', 'dandelion', 'sunflowers', 'tulips', 'sunflowers', 'tulips', 'tulips', 'sunflowers', 'roses', 'dandelion', 'sunflowers', 'roses', 'tulips', 'roses', 'roses', 'daisy', 'tulips', 'tulips', 'roses', 'dandelion', 'roses', 'dandelion', 'tulips', 'sunflowers', 'tulips', 'roses', 'tulips', 'roses', 'roses', 'sunflowers', 'tulips', 'tulips', 'roses', 'roses', 'dandelion', 'dandelion', 'tulips', 'tulips', 'daisy', 'dandelion', 'tulips', 'daisy', 'roses']\n",
            "accuracy =  0.49320652173913043\n",
            "[[ 66  17   9  20  15]\n",
            " [ 15 110  10  20  25]\n",
            " [  9  22  41  13  44]\n",
            " [ 20  19   6  71  24]\n",
            " [ 10  24  31  20  75]]\n"
          ]
        },
        {
          "output_type": "display_data",
          "data": {
            "text/plain": [
              "<Figure size 288x288 with 2 Axes>"
            ],
            "image/png": "[encoded data removed]"
          },
          "metadata": {
            "needs_background": "light"
          }
        },
        {
          "output_type": "stream",
          "name": "stdout",
          "text": [
            "F1 score for SVM: 0.49062257263983455\n",
            "              precision    recall  f1-score   support\n",
            "\n",
            "       daisy       0.55      0.52      0.53       127\n",
            "   dandelion       0.57      0.61      0.59       180\n",
            "       roses       0.42      0.32      0.36       129\n",
            "  sunflowers       0.49      0.51      0.50       140\n",
            "      tulips       0.41      0.47      0.44       160\n",
            "\n",
            "    accuracy                           0.49       736\n",
            "   macro avg       0.49      0.48      0.49       736\n",
            "weighted avg       0.49      0.49      0.49       736\n",
            "\n"
          ]
        }
      ]
    },
    {
      "cell_type": "code",
      "source": [
        "#Report true class names so they can be compared with predicted classes\n",
        "true_class =  [classes_names_rf[i] for i in image_classes]\n",
        "# Perform the predictions and report predicted class names. \n",
        "predictions_rf=  [classes_names_rf[i] for i in clf_rf.predict(test_features)]\n",
        "\n",
        "\n",
        "#Print the true class and Predictions \n",
        "print (\"true_class =\"  + str(true_class))\n",
        "print (\"prediction =\"  + str(predictions_rf))\n",
        "\n",
        "###############################################\n",
        "#To make it easy to understand the accuracy let us print the confusion matrix\n",
        "\n",
        "def showconfusionmatrix(cm):\n",
        "    pl.matshow(cm)\n",
        "    pl.title('Confusion Matrix')\n",
        "    pl.colorbar()\n",
        "    pl.show()\n",
        "\n",
        "\n",
        "accuracy_rf = accuracy_score(true_class, predictions_rf)\n",
        "print (\"accuracy = \", accuracy_rf)\n",
        "cm_rf = confusion_matrix(true_class, predictions_rf)\n",
        "print (cm_rf)\n",
        "\n",
        "showconfusionmatrix(cm_rf)\n",
        "###############################################################################\n",
        "#Calculate F1 score\n",
        "from sklearn.metrics import f1_score\n",
        "\n",
        "f1_rf= f1_score(true_class, predictions_rf, average='weighted')\n",
        "print(\"F1 score for RF:\", f1_rf)\n",
        "\n",
        "#Print classification report\n",
        "from sklearn.metrics import classification_report\n",
        "\n",
        "report_rf = classification_report(true_class, predictions_rf)\n",
        "print(report_rf)"
      ],
      "metadata": {
        "colab": {
          "base_uri": "https://localhost:8080/",
          "height": 650
        },
        "id": "ciUANBiL0MnQ",
        "outputId": "afd2a96a-ea73-440b-c065-be51e9aa8f40"
      },
      "execution_count": 26,
      "outputs": [
        {
          "output_type": "stream",
          "name": "stdout",
          "text": [
            "true_class =['daisy', 'daisy', 'daisy', 'daisy', 'daisy', 'daisy', 'daisy', 'daisy', 'daisy', 'daisy', 'daisy', 'daisy', 'daisy', 'daisy', 'daisy', 'daisy', 'daisy', 'daisy', 'daisy', 'daisy', 'daisy', 'daisy', 'daisy', 'daisy', 'daisy', 'daisy', 'daisy', 'daisy', 'daisy', 'daisy', 'daisy', 'daisy', 'daisy', 'daisy', 'daisy', 'daisy', 'daisy', 'daisy', 'daisy', 'daisy', 'daisy', 'daisy', 'daisy', 'daisy', 'daisy', 'daisy', 'daisy', 'daisy', 'daisy', 'daisy', 'daisy', 'daisy', 'daisy', 'daisy', 'daisy', 'daisy', 'daisy', 'daisy', 'daisy', 'daisy', 'daisy', 'daisy', 'daisy', 'daisy', 'daisy', 'daisy', 'daisy', 'daisy', 'daisy', 'daisy', 'daisy', 'daisy', 'daisy', 'daisy', 'daisy', 'daisy', 'daisy', 'daisy', 'daisy', 'daisy', 'daisy', 'daisy', 'daisy', 'daisy', 'daisy', 'daisy', 'daisy', 'daisy', 'daisy', 'daisy', 'daisy', 'daisy', 'daisy', 'daisy', 'daisy', 'daisy', 'daisy', 'daisy', 'daisy', 'daisy', 'daisy', 'daisy', 'daisy', 'daisy', 'daisy', 'daisy', 'daisy', 'daisy', 'daisy', 'daisy', 'daisy', 'daisy', 'daisy', 'daisy', 'daisy', 'daisy', 'daisy', 'daisy', 'daisy', 'daisy', 'daisy', 'daisy', 'daisy', 'daisy', 'daisy', 'daisy', 'daisy', 'sunflowers', 'sunflowers', 'sunflowers', 'sunflowers', 'sunflowers', 'sunflowers', 'sunflowers', 'sunflowers', 'sunflowers', 'sunflowers', 'sunflowers', 'sunflowers', 'sunflowers', 'sunflowers', 'sunflowers', 'sunflowers', 'sunflowers', 'sunflowers', 'sunflowers', 'sunflowers', 'sunflowers', 'sunflowers', 'sunflowers', 'sunflowers', 'sunflowers', 'sunflowers', 'sunflowers', 'sunflowers', 'sunflowers', 'sunflowers', 'sunflowers', 'sunflowers', 'sunflowers', 'sunflowers', 'sunflowers', 'sunflowers', 'sunflowers', 'sunflowers', 'sunflowers', 'sunflowers', 'sunflowers', 'sunflowers', 'sunflowers', 'sunflowers', 'sunflowers', 'sunflowers', 'sunflowers', 'sunflowers', 'sunflowers', 'sunflowers', 'sunflowers', 'sunflowers', 'sunflowers', 'sunflowers', 'sunflowers', 'sunflowers', 'sunflowers', 'sunflowers', 'sunflowers', 'sunflowers', 'sunflowers', 'sunflowers', 'sunflowers', 'sunflowers', 'sunflowers', 'sunflowers', 'sunflowers', 'sunflowers', 'sunflowers', 'sunflowers', 'sunflowers', 'sunflowers', 'sunflowers', 'sunflowers', 'sunflowers', 'sunflowers', 'sunflowers', 'sunflowers', 'sunflowers', 'sunflowers', 'sunflowers', 'sunflowers', 'sunflowers', 'sunflowers', 'sunflowers', 'sunflowers', 'sunflowers', 'sunflowers', 'sunflowers', 'sunflowers', 'sunflowers', 'sunflowers', 'sunflowers', 'sunflowers', 'sunflowers', 'sunflowers', 'sunflowers', 'sunflowers', 'sunflowers', 'sunflowers', 'sunflowers', 'sunflowers', 'sunflowers', 'sunflowers', 'sunflowers', 'sunflowers', 'sunflowers', 'sunflowers', 'sunflowers', 'sunflowers', 'sunflowers', 'sunflowers', 'sunflowers', 'sunflowers', 'sunflowers', 'sunflowers', 'sunflowers', 'sunflowers', 'sunflowers', 'sunflowers', 'sunflowers', 'sunflowers', 'sunflowers', 'sunflowers', 'sunflowers', 'sunflowers', 'sunflowers', 'sunflowers', 'sunflowers', 'sunflowers', 'sunflowers', 'sunflowers', 'sunflowers', 'sunflowers', 'sunflowers', 'sunflowers', 'sunflowers', 'sunflowers', 'sunflowers', 'sunflowers', 'dandelion', 'dandelion', 'dandelion', 'dandelion', 'dandelion', 'dandelion', 'dandelion', 'dandelion', 'dandelion', 'dandelion', 'dandelion', 'dandelion', 'dandelion', 'dandelion', 'dandelion', 'dandelion', 'dandelion', 'dandelion', 'dandelion', 'dandelion', 'dandelion', 'dandelion', 'dandelion', 'dandelion', 'dandelion', 'dandelion', 'dandelion', 'dandelion', 'dandelion', 'dandelion', 'dandelion', 'dandelion', 'dandelion', 'dandelion', 'dandelion', 'dandelion', 'dandelion', 'dandelion', 'dandelion', 'dandelion', 'dandelion', 'dandelion', 'dandelion', 'dandelion', 'dandelion', 'dandelion', 'dandelion', 'dandelion', 'dandelion', 'dandelion', 'dandelion', 'dandelion', 'dandelion', 'dandelion', 'dandelion', 'dandelion', 'dandelion', 'dandelion', 'dandelion', 'dandelion', 'dandelion', 'dandelion', 'dandelion', 'dandelion', 'dandelion', 'dandelion', 'dandelion', 'dandelion', 'dandelion', 'dandelion', 'dandelion', 'dandelion', 'dandelion', 'dandelion', 'dandelion', 'dandelion', 'dandelion', 'dandelion', 'dandelion', 'dandelion', 'dandelion', 'dandelion', 'dandelion', 'dandelion', 'dandelion', 'dandelion', 'dandelion', 'dandelion', 'dandelion', 'dandelion', 'dandelion', 'dandelion', 'dandelion', 'dandelion', 'dandelion', 'dandelion', 'dandelion', 'dandelion', 'dandelion', 'dandelion', 'dandelion', 'dandelion', 'dandelion', 'dandelion', 'dandelion', 'dandelion', 'dandelion', 'dandelion', 'dandelion', 'dandelion', 'dandelion', 'dandelion', 'dandelion', 'dandelion', 'dandelion', 'dandelion', 'dandelion', 'dandelion', 'dandelion', 'dandelion', 'dandelion', 'dandelion', 'dandelion', 'dandelion', 'dandelion', 'dandelion', 'dandelion', 'dandelion', 'dandelion', 'dandelion', 'dandelion', 'dandelion', 'dandelion', 'dandelion', 'dandelion', 'dandelion', 'dandelion', 'dandelion', 'dandelion', 'dandelion', 'dandelion', 'dandelion', 'dandelion', 'dandelion', 'dandelion', 'dandelion', 'dandelion', 'dandelion', 'dandelion', 'dandelion', 'dandelion', 'dandelion', 'dandelion', 'dandelion', 'dandelion', 'dandelion', 'dandelion', 'dandelion', 'dandelion', 'dandelion', 'dandelion', 'dandelion', 'dandelion', 'dandelion', 'dandelion', 'dandelion', 'dandelion', 'dandelion', 'dandelion', 'dandelion', 'dandelion', 'dandelion', 'dandelion', 'dandelion', 'dandelion', 'dandelion', 'dandelion', 'dandelion', 'dandelion', 'dandelion', 'tulips', 'tulips', 'tulips', 'tulips', 'tulips', 'tulips', 'tulips', 'tulips', 'tulips', 'tulips', 'tulips', 'tulips', 'tulips', 'tulips', 'tulips', 'tulips', 'tulips', 'tulips', 'tulips', 'tulips', 'tulips', 'tulips', 'tulips', 'tulips', 'tulips', 'tulips', 'tulips', 'tulips', 'tulips', 'tulips', 'tulips', 'tulips', 'tulips', 'tulips', 'tulips', 'tulips', 'tulips', 'tulips', 'tulips', 'tulips', 'tulips', 'tulips', 'tulips', 'tulips', 'tulips', 'tulips', 'tulips', 'tulips', 'tulips', 'tulips', 'tulips', 'tulips', 'tulips', 'tulips', 'tulips', 'tulips', 'tulips', 'tulips', 'tulips', 'tulips', 'tulips', 'tulips', 'tulips', 'tulips', 'tulips', 'tulips', 'tulips', 'tulips', 'tulips', 'tulips', 'tulips', 'tulips', 'tulips', 'tulips', 'tulips', 'tulips', 'tulips', 'tulips', 'tulips', 'tulips', 'tulips', 'tulips', 'tulips', 'tulips', 'tulips', 'tulips', 'tulips', 'tulips', 'tulips', 'tulips', 'tulips', 'tulips', 'tulips', 'tulips', 'tulips', 'tulips', 'tulips', 'tulips', 'tulips', 'tulips', 'tulips', 'tulips', 'tulips', 'tulips', 'tulips', 'tulips', 'tulips', 'tulips', 'tulips', 'tulips', 'tulips', 'tulips', 'tulips', 'tulips', 'tulips', 'tulips', 'tulips', 'tulips', 'tulips', 'tulips', 'tulips', 'tulips', 'tulips', 'tulips', 'tulips', 'tulips', 'tulips', 'tulips', 'tulips', 'tulips', 'tulips', 'tulips', 'tulips', 'tulips', 'tulips', 'tulips', 'tulips', 'tulips', 'tulips', 'tulips', 'tulips', 'tulips', 'tulips', 'tulips', 'tulips', 'tulips', 'tulips', 'tulips', 'tulips', 'tulips', 'tulips', 'tulips', 'tulips', 'tulips', 'tulips', 'tulips', 'tulips', 'tulips', 'tulips', 'tulips', 'roses', 'roses', 'roses', 'roses', 'roses', 'roses', 'roses', 'roses', 'roses', 'roses', 'roses', 'roses', 'roses', 'roses', 'roses', 'roses', 'roses', 'roses', 'roses', 'roses', 'roses', 'roses', 'roses', 'roses', 'roses', 'roses', 'roses', 'roses', 'roses', 'roses', 'roses', 'roses', 'roses', 'roses', 'roses', 'roses', 'roses', 'roses', 'roses', 'roses', 'roses', 'roses', 'roses', 'roses', 'roses', 'roses', 'roses', 'roses', 'roses', 'roses', 'roses', 'roses', 'roses', 'roses', 'roses', 'roses', 'roses', 'roses', 'roses', 'roses', 'roses', 'roses', 'roses', 'roses', 'roses', 'roses', 'roses', 'roses', 'roses', 'roses', 'roses', 'roses', 'roses', 'roses', 'roses', 'roses', 'roses', 'roses', 'roses', 'roses', 'roses', 'roses', 'roses', 'roses', 'roses', 'roses', 'roses', 'roses', 'roses', 'roses', 'roses', 'roses', 'roses', 'roses', 'roses', 'roses', 'roses', 'roses', 'roses', 'roses', 'roses', 'roses', 'roses', 'roses', 'roses', 'roses', 'roses', 'roses', 'roses', 'roses', 'roses', 'roses', 'roses', 'roses', 'roses', 'roses', 'roses', 'roses', 'roses', 'roses', 'roses', 'roses', 'roses', 'roses', 'roses', 'roses', 'roses', 'roses', 'roses']\n",
            "prediction =['daisy', 'daisy', 'roses', 'daisy', 'daisy', 'daisy', 'daisy', 'daisy', 'roses', 'tulips', 'daisy', 'tulips', 'sunflowers', 'dandelion', 'daisy', 'sunflowers', 'dandelion', 'sunflowers', 'daisy', 'daisy', 'dandelion', 'daisy', 'daisy', 'tulips', 'daisy', 'roses', 'dandelion', 'daisy', 'dandelion', 'tulips', 'daisy', 'daisy', 'roses', 'tulips', 'daisy', 'daisy', 'tulips', 'roses', 'dandelion', 'daisy', 'dandelion', 'roses', 'daisy', 'sunflowers', 'daisy', 'dandelion', 'tulips', 'tulips', 'dandelion', 'daisy', 'roses', 'sunflowers', 'daisy', 'tulips', 'daisy', 'daisy', 'daisy', 'daisy', 'daisy', 'daisy', 'dandelion', 'dandelion', 'daisy', 'daisy', 'daisy', 'tulips', 'daisy', 'roses', 'daisy', 'sunflowers', 'daisy', 'daisy', 'dandelion', 'tulips', 'sunflowers', 'sunflowers', 'daisy', 'dandelion', 'dandelion', 'tulips', 'daisy', 'sunflowers', 'dandelion', 'daisy', 'sunflowers', 'dandelion', 'daisy', 'dandelion', 'tulips', 'dandelion', 'daisy', 'daisy', 'daisy', 'daisy', 'daisy', 'daisy', 'dandelion', 'dandelion', 'daisy', 'daisy', 'daisy', 'daisy', 'daisy', 'daisy', 'daisy', 'daisy', 'daisy', 'sunflowers', 'sunflowers', 'daisy', 'tulips', 'tulips', 'daisy', 'daisy', 'dandelion', 'dandelion', 'roses', 'daisy', 'dandelion', 'sunflowers', 'daisy', 'sunflowers', 'daisy', 'daisy', 'sunflowers', 'daisy', 'daisy', 'dandelion', 'daisy', 'sunflowers', 'sunflowers', 'roses', 'sunflowers', 'daisy', 'sunflowers', 'dandelion', 'daisy', 'sunflowers', 'sunflowers', 'dandelion', 'sunflowers', 'tulips', 'tulips', 'sunflowers', 'dandelion', 'daisy', 'tulips', 'sunflowers', 'tulips', 'daisy', 'dandelion', 'sunflowers', 'daisy', 'sunflowers', 'tulips', 'sunflowers', 'tulips', 'dandelion', 'sunflowers', 'dandelion', 'tulips', 'sunflowers', 'daisy', 'daisy', 'dandelion', 'dandelion', 'sunflowers', 'sunflowers', 'sunflowers', 'sunflowers', 'sunflowers', 'sunflowers', 'tulips', 'dandelion', 'tulips', 'tulips', 'sunflowers', 'daisy', 'tulips', 'tulips', 'dandelion', 'tulips', 'daisy', 'tulips', 'sunflowers', 'tulips', 'tulips', 'daisy', 'sunflowers', 'tulips', 'dandelion', 'tulips', 'dandelion', 'sunflowers', 'sunflowers', 'dandelion', 'daisy', 'tulips', 'daisy', 'tulips', 'dandelion', 'dandelion', 'sunflowers', 'dandelion', 'sunflowers', 'sunflowers', 'sunflowers', 'daisy', 'roses', 'dandelion', 'sunflowers', 'daisy', 'sunflowers', 'sunflowers', 'sunflowers', 'sunflowers', 'sunflowers', 'dandelion', 'dandelion', 'dandelion', 'sunflowers', 'sunflowers', 'sunflowers', 'daisy', 'sunflowers', 'dandelion', 'sunflowers', 'daisy', 'daisy', 'sunflowers', 'dandelion', 'dandelion', 'daisy', 'sunflowers', 'sunflowers', 'sunflowers', 'sunflowers', 'sunflowers', 'tulips', 'dandelion', 'sunflowers', 'daisy', 'dandelion', 'dandelion', 'daisy', 'sunflowers', 'tulips', 'daisy', 'sunflowers', 'sunflowers', 'sunflowers', 'dandelion', 'sunflowers', 'tulips', 'dandelion', 'sunflowers', 'sunflowers', 'dandelion', 'tulips', 'sunflowers', 'dandelion', 'dandelion', 'tulips', 'sunflowers', 'tulips', 'sunflowers', 'tulips', 'dandelion', 'dandelion', 'dandelion', 'dandelion', 'dandelion', 'dandelion', 'dandelion', 'dandelion', 'dandelion', 'dandelion', 'dandelion', 'dandelion', 'dandelion', 'dandelion', 'dandelion', 'tulips', 'dandelion', 'tulips', 'dandelion', 'tulips', 'dandelion', 'dandelion', 'dandelion', 'dandelion', 'dandelion', 'dandelion', 'dandelion', 'dandelion', 'dandelion', 'tulips', 'roses', 'dandelion', 'dandelion', 'tulips', 'dandelion', 'dandelion', 'dandelion', 'dandelion', 'dandelion', 'dandelion', 'dandelion', 'dandelion', 'dandelion', 'dandelion', 'daisy', 'dandelion', 'roses', 'dandelion', 'dandelion', 'dandelion', 'dandelion', 'dandelion', 'roses', 'tulips', 'dandelion', 'dandelion', 'dandelion', 'dandelion', 'sunflowers', 'tulips', 'tulips', 'dandelion', 'sunflowers', 'dandelion', 'sunflowers', 'tulips', 'dandelion', 'dandelion', 'dandelion', 'sunflowers', 'dandelion', 'dandelion', 'dandelion', 'dandelion', 'dandelion', 'tulips', 'tulips', 'dandelion', 'dandelion', 'dandelion', 'dandelion', 'dandelion', 'dandelion', 'dandelion', 'tulips', 'dandelion', 'dandelion', 'sunflowers', 'dandelion', 'daisy', 'tulips', 'dandelion', 'dandelion', 'dandelion', 'dandelion', 'dandelion', 'dandelion', 'daisy', 'dandelion', 'tulips', 'dandelion', 'roses', 'tulips', 'dandelion', 'dandelion', 'dandelion', 'dandelion', 'dandelion', 'dandelion', 'dandelion', 'dandelion', 'dandelion', 'tulips', 'daisy', 'dandelion', 'daisy', 'tulips', 'tulips', 'dandelion', 'dandelion', 'dandelion', 'dandelion', 'dandelion', 'dandelion', 'tulips', 'dandelion', 'dandelion', 'dandelion', 'dandelion', 'dandelion', 'daisy', 'dandelion', 'dandelion', 'tulips', 'dandelion', 'dandelion', 'dandelion', 'dandelion', 'dandelion', 'dandelion', 'daisy', 'dandelion', 'daisy', 'dandelion', 'dandelion', 'dandelion', 'daisy', 'dandelion', 'dandelion', 'dandelion', 'dandelion', 'tulips', 'dandelion', 'roses', 'daisy', 'dandelion', 'dandelion', 'tulips', 'daisy', 'dandelion', 'dandelion', 'daisy', 'dandelion', 'dandelion', 'dandelion', 'dandelion', 'sunflowers', 'dandelion', 'dandelion', 'dandelion', 'sunflowers', 'tulips', 'dandelion', 'tulips', 'dandelion', 'dandelion', 'dandelion', 'daisy', 'dandelion', 'sunflowers', 'sunflowers', 'tulips', 'dandelion', 'tulips', 'tulips', 'tulips', 'tulips', 'tulips', 'tulips', 'sunflowers', 'roses', 'tulips', 'tulips', 'dandelion', 'sunflowers', 'tulips', 'tulips', 'tulips', 'tulips', 'dandelion', 'roses', 'dandelion', 'tulips', 'tulips', 'tulips', 'sunflowers', 'sunflowers', 'roses', 'tulips', 'sunflowers', 'tulips', 'tulips', 'tulips', 'dandelion', 'tulips', 'tulips', 'tulips', 'tulips', 'tulips', 'daisy', 'tulips', 'tulips', 'tulips', 'tulips', 'tulips', 'roses', 'tulips', 'dandelion', 'tulips', 'roses', 'sunflowers', 'dandelion', 'roses', 'tulips', 'dandelion', 'tulips', 'dandelion', 'tulips', 'dandelion', 'dandelion', 'dandelion', 'sunflowers', 'dandelion', 'tulips', 'dandelion', 'tulips', 'tulips', 'dandelion', 'tulips', 'tulips', 'tulips', 'dandelion', 'tulips', 'tulips', 'tulips', 'tulips', 'tulips', 'dandelion', 'roses', 'tulips', 'tulips', 'tulips', 'roses', 'sunflowers', 'tulips', 'roses', 'dandelion', 'roses', 'tulips', 'roses', 'dandelion', 'tulips', 'sunflowers', 'roses', 'tulips', 'tulips', 'daisy', 'tulips', 'tulips', 'roses', 'sunflowers', 'tulips', 'sunflowers', 'tulips', 'tulips', 'tulips', 'tulips', 'tulips', 'tulips', 'dandelion', 'tulips', 'tulips', 'sunflowers', 'tulips', 'tulips', 'roses', 'sunflowers', 'tulips', 'tulips', 'daisy', 'tulips', 'roses', 'roses', 'dandelion', 'dandelion', 'sunflowers', 'sunflowers', 'roses', 'dandelion', 'tulips', 'tulips', 'sunflowers', 'dandelion', 'tulips', 'dandelion', 'daisy', 'dandelion', 'tulips', 'dandelion', 'dandelion', 'sunflowers', 'dandelion', 'sunflowers', 'tulips', 'dandelion', 'roses', 'sunflowers', 'sunflowers', 'tulips', 'tulips', 'tulips', 'sunflowers', 'tulips', 'dandelion', 'dandelion', 'tulips', 'tulips', 'tulips', 'sunflowers', 'dandelion', 'roses', 'tulips', 'roses', 'dandelion', 'tulips', 'roses', 'dandelion', 'dandelion', 'tulips', 'dandelion', 'sunflowers', 'dandelion', 'dandelion', 'daisy', 'tulips', 'tulips', 'sunflowers', 'roses', 'dandelion', 'daisy', 'tulips', 'dandelion', 'sunflowers', 'tulips', 'roses', 'sunflowers', 'tulips', 'tulips', 'dandelion', 'sunflowers', 'dandelion', 'tulips', 'roses', 'tulips', 'roses', 'tulips', 'daisy', 'tulips', 'dandelion', 'tulips', 'roses', 'dandelion', 'roses', 'tulips', 'roses', 'daisy', 'tulips', 'dandelion', 'roses', 'roses', 'tulips', 'tulips', 'tulips', 'dandelion', 'tulips', 'sunflowers', 'tulips', 'sunflowers', 'roses', 'roses', 'roses', 'tulips', 'daisy', 'dandelion', 'roses', 'tulips', 'roses', 'tulips', 'tulips', 'roses', 'tulips', 'daisy', 'roses', 'roses', 'tulips', 'roses', 'roses', 'tulips', 'daisy', 'roses', 'tulips', 'tulips', 'dandelion', 'tulips', 'dandelion', 'sunflowers', 'tulips', 'dandelion', 'dandelion', 'tulips', 'tulips', 'tulips', 'tulips', 'sunflowers', 'roses', 'tulips', 'dandelion', 'roses', 'tulips', 'tulips', 'roses', 'dandelion', 'tulips', 'dandelion', 'roses', 'dandelion', 'dandelion', 'tulips', 'tulips', 'sunflowers', 'tulips', 'tulips', 'daisy', 'tulips', 'tulips', 'sunflowers', 'tulips', 'dandelion', 'roses', 'roses', 'sunflowers', 'dandelion', 'dandelion', 'tulips', 'tulips', 'dandelion', 'tulips', 'dandelion', 'roses']\n",
            "accuracy =  0.4945652173913043\n",
            "[[ 65  23   9  15  15]\n",
            " [ 13 130   5   8  24]\n",
            " [  8  29  30  12  50]\n",
            " [ 22  32   2  57  27]\n",
            " [  4  33  18  23  82]]\n"
          ]
        },
        {
          "output_type": "display_data",
          "data": {
            "text/plain": [
              "<Figure size 288x288 with 2 Axes>"
            ],
            "image/png": "[encoded data removed]"
          },
          "metadata": {
            "needs_background": "light"
          }
        },
        {
          "output_type": "stream",
          "name": "stdout",
          "text": [
            "F1 score for RF: 0.4818876672103903\n",
            "              precision    recall  f1-score   support\n",
            "\n",
            "       daisy       0.58      0.51      0.54       127\n",
            "   dandelion       0.53      0.72      0.61       180\n",
            "       roses       0.47      0.23      0.31       129\n",
            "  sunflowers       0.50      0.41      0.45       140\n",
            "      tulips       0.41      0.51      0.46       160\n",
            "\n",
            "    accuracy                           0.49       736\n",
            "   macro avg       0.50      0.48      0.47       736\n",
            "weighted avg       0.50      0.49      0.48       736\n",
            "\n"
          ]
        }
      ]
    }
  ],
  "metadata": {
    "colab": {
      "provenance": []
    },
    "gpuClass": "standard",
    "kernelspec": {
      "display_name": "Python 3",
      "name": "python3"
    },
    "language_info": {
      "name": "python"
    }
  },
  "nbformat": 4,
  "nbformat_minor": 0
}