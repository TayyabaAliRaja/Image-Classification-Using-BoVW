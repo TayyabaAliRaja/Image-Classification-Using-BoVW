{
  "nbformat": 4,
  "nbformat_minor": 0,
  "metadata": {
    "colab": {
      "provenance": []
    },
    "kernelspec": {
      "name": "python3",
      "display_name": "Python 3"
    },
    "language_info": {
      "name": "python"
    }
  },
  "cells": [
    {
      "cell_type": "code",
      "execution_count": 2,
      "metadata": {
        "id": "zcejQMQv2o6Z"
      },
      "outputs": [],
      "source": [
        "# -- coding: utf-8 --\n",
        "\"\"\"\n",
        "Created on Fri Mar 10 03:39:29 2023\n",
        "\n",
        "@author: Tayyaba Ali Raja\n",
        "\"\"\"\n",
        "import cv2\n",
        "import numpy as np\n",
        "import zipfile\n",
        "import matplotlib.pyplot as plt\n",
        "from sklearn.cluster import KMeans\n",
        "from sklearn.svm import SVC\n",
        "from sklearn.metrics import accuracy_score\n",
        "from sklearn.ensemble import RandomForestClassifier\n",
        "import joblib\n",
        "import os\n",
        "import random\n",
        "import pylab as pl\n",
        "from sklearn.metrics import confusion_matrix, accuracy_score \n"
      ]
    },
    {
      "cell_type": "code",
      "source": [
        "from google.colab import drive\n",
        "drive.mount('/content/drive/')\n",
        "     "
      ],
      "metadata": {
        "colab": {
          "base_uri": "https://localhost:8080/"
        },
        "id": "RzSRVYrB6pYC",
        "outputId": "86aeae33-a269-4b73-a97e-cf4a19295d9b"
      },
      "execution_count": 7,
      "outputs": [
        {
          "output_type": "stream",
          "name": "stdout",
          "text": [
            "Drive already mounted at /content/drive/; to attempt to forcibly remount, call drive.mount(\"/content/drive/\", force_remount=True).\n"
          ]
        }
      ]
    },
    {
      "cell_type": "code",
      "source": [
        "#Give the path of training data\n",
        "#Get Classes\n",
        "train_path = '/content/drive/MyDrive/Object_Dataset/train'  #path of training dataset\n",
        "training_names = os.listdir(train_path) #read Training data\n",
        "print(training_names) #classes in training Data\n",
        "print(len(training_names)) #No. of classes in training data\n",
        "# Get path to all images and save them in a list\n",
        "# image_paths and the corresponding label in image_paths\n",
        "image_paths = [] #paths of all training images\n",
        "image_classes = [] #class ids of images\n",
        "class_id = 0\n",
        "#get a list of all the file paths to images in a training dataset\n",
        "#complete path to ecah image\n",
        "def imglist(path):    \n",
        "    return [os.path.join(path, f) for f in os.listdir(path)] #join class folder path with image path\n",
        "#Fill the placeholder empty lists with image path, classes, and add class ID number \n",
        "for training_name in training_names:\n",
        "    dir = os.path.join(train_path, training_name) #Path of each class folder\n",
        "    class_path = imglist(dir) #Path of images in eac\n",
        "    image_paths+=class_path #paths of all images\n",
        "    image_classes+=[class_id]*len(class_path) #assign a number to images of each class \n",
        "    class_id+=1"
      ],
      "metadata": {
        "colab": {
          "base_uri": "https://localhost:8080/"
        },
        "id": "pz-PmEjD25WU",
        "outputId": "bc6b5110-60f0-4305-d67d-bfb9ddfa3209"
      },
      "execution_count": 29,
      "outputs": [
        {
          "output_type": "stream",
          "name": "stdout",
          "text": [
            "['accordion', 'dollar_bill', 'motorbike', 'Soccer_Ball']\n",
            "4\n"
          ]
        }
      ]
    },
    {
      "cell_type": "code",
      "source": [
        "# Create feature extraction and keypoint detector objects\n",
        "# Create List where all the descriptors will be stored\n",
        "des_list = []\n",
        "sift = cv2.SIFT_create(40)\n",
        "for image_path in image_paths:\n",
        "    im = cv2.imread(image_path)\n",
        "    kpts, des = sift.detectAndCompute(im, None)\n",
        "    des_list.append((image_path, des))     \n",
        "# Stack all the descriptors vertically in a numpy array\n",
        "descriptors = des_list[0][1]\n",
        "for image_path, descriptor in des_list[1:]:\n",
        "    descriptors = np.vstack((descriptors, descriptor))  \n",
        "    #kmeans works only on float, so convert integers to float\n",
        "descriptors_float = descriptors.astype(float)  "
      ],
      "metadata": {
        "id": "uBXLPVPY2_DJ"
      },
      "execution_count": 30,
      "outputs": []
    },
    {
      "cell_type": "code",
      "source": [
        "#find optimal number of clusters using elbow method\n",
        "def OptClusters(descriptors_float,N):\n",
        "    from sklearn.cluster import KMeans\n",
        "    sse = {}\n",
        "    for k in range(1, N ,10):\n",
        "        km = KMeans(n_clusters=k, max_iter=1000).fit(descriptors_float)\n",
        "        sse[k] = km.inertia_\n",
        "    \n",
        "    # Plot SSE against k\n",
        "    plt.figure()\n",
        "    plt.plot(list(sse.keys()), list(sse.values()))\n",
        "    plt.xlabel(\"Number of clusters (k)\")\n",
        "    plt.ylabel(\"Sum of Squared Errors (SSE)\")\n",
        "    plt.show()\n",
        "\n",
        "OptClusters(descriptors_float,1000)\n"
      ],
      "metadata": {
        "colab": {
          "base_uri": "https://localhost:8080/",
          "height": 1000
        },
        "id": "PRul6o_Y3C96",
        "outputId": "87e0c99f-6df8-4ed1-b6e7-475bba97eb7f"
      },
      "execution_count": 31,
      "outputs": [
        {
          "output_type": "stream",
          "name": "stderr",
          "text": [
            "/usr/local/lib/python3.9/dist-packages/sklearn/cluster/_kmeans.py:870: FutureWarning: The default value of `n_init` will change from 10 to 'auto' in 1.4. Set the value of `n_init` explicitly to suppress the warning\n",
            "  warnings.warn(\n",
            "/usr/local/lib/python3.9/dist-packages/sklearn/cluster/_kmeans.py:870: FutureWarning: The default value of `n_init` will change from 10 to 'auto' in 1.4. Set the value of `n_init` explicitly to suppress the warning\n",
            "  warnings.warn(\n",
            "/usr/local/lib/python3.9/dist-packages/sklearn/cluster/_kmeans.py:870: FutureWarning: The default value of `n_init` will change from 10 to 'auto' in 1.4. Set the value of `n_init` explicitly to suppress the warning\n",
            "  warnings.warn(\n",
            "/usr/local/lib/python3.9/dist-packages/sklearn/cluster/_kmeans.py:870: FutureWarning: The default value of `n_init` will change from 10 to 'auto' in 1.4. Set the value of `n_init` explicitly to suppress the warning\n",
            "  warnings.warn(\n",
            "/usr/local/lib/python3.9/dist-packages/sklearn/cluster/_kmeans.py:870: FutureWarning: The default value of `n_init` will change from 10 to 'auto' in 1.4. Set the value of `n_init` explicitly to suppress the warning\n",
            "  warnings.warn(\n",
            "/usr/local/lib/python3.9/dist-packages/sklearn/cluster/_kmeans.py:870: FutureWarning: The default value of `n_init` will change from 10 to 'auto' in 1.4. Set the value of `n_init` explicitly to suppress the warning\n",
            "  warnings.warn(\n",
            "/usr/local/lib/python3.9/dist-packages/sklearn/cluster/_kmeans.py:870: FutureWarning: The default value of `n_init` will change from 10 to 'auto' in 1.4. Set the value of `n_init` explicitly to suppress the warning\n",
            "  warnings.warn(\n",
            "/usr/local/lib/python3.9/dist-packages/sklearn/cluster/_kmeans.py:870: FutureWarning: The default value of `n_init` will change from 10 to 'auto' in 1.4. Set the value of `n_init` explicitly to suppress the warning\n",
            "  warnings.warn(\n",
            "/usr/local/lib/python3.9/dist-packages/sklearn/cluster/_kmeans.py:870: FutureWarning: The default value of `n_init` will change from 10 to 'auto' in 1.4. Set the value of `n_init` explicitly to suppress the warning\n",
            "  warnings.warn(\n",
            "/usr/local/lib/python3.9/dist-packages/sklearn/cluster/_kmeans.py:870: FutureWarning: The default value of `n_init` will change from 10 to 'auto' in 1.4. Set the value of `n_init` explicitly to suppress the warning\n",
            "  warnings.warn(\n",
            "/usr/local/lib/python3.9/dist-packages/sklearn/cluster/_kmeans.py:870: FutureWarning: The default value of `n_init` will change from 10 to 'auto' in 1.4. Set the value of `n_init` explicitly to suppress the warning\n",
            "  warnings.warn(\n",
            "/usr/local/lib/python3.9/dist-packages/sklearn/cluster/_kmeans.py:870: FutureWarning: The default value of `n_init` will change from 10 to 'auto' in 1.4. Set the value of `n_init` explicitly to suppress the warning\n",
            "  warnings.warn(\n",
            "/usr/local/lib/python3.9/dist-packages/sklearn/cluster/_kmeans.py:870: FutureWarning: The default value of `n_init` will change from 10 to 'auto' in 1.4. Set the value of `n_init` explicitly to suppress the warning\n",
            "  warnings.warn(\n",
            "/usr/local/lib/python3.9/dist-packages/sklearn/cluster/_kmeans.py:870: FutureWarning: The default value of `n_init` will change from 10 to 'auto' in 1.4. Set the value of `n_init` explicitly to suppress the warning\n",
            "  warnings.warn(\n",
            "/usr/local/lib/python3.9/dist-packages/sklearn/cluster/_kmeans.py:870: FutureWarning: The default value of `n_init` will change from 10 to 'auto' in 1.4. Set the value of `n_init` explicitly to suppress the warning\n",
            "  warnings.warn(\n",
            "/usr/local/lib/python3.9/dist-packages/sklearn/cluster/_kmeans.py:870: FutureWarning: The default value of `n_init` will change from 10 to 'auto' in 1.4. Set the value of `n_init` explicitly to suppress the warning\n",
            "  warnings.warn(\n",
            "/usr/local/lib/python3.9/dist-packages/sklearn/cluster/_kmeans.py:870: FutureWarning: The default value of `n_init` will change from 10 to 'auto' in 1.4. Set the value of `n_init` explicitly to suppress the warning\n",
            "  warnings.warn(\n",
            "/usr/local/lib/python3.9/dist-packages/sklearn/cluster/_kmeans.py:870: FutureWarning: The default value of `n_init` will change from 10 to 'auto' in 1.4. Set the value of `n_init` explicitly to suppress the warning\n",
            "  warnings.warn(\n",
            "/usr/local/lib/python3.9/dist-packages/sklearn/cluster/_kmeans.py:870: FutureWarning: The default value of `n_init` will change from 10 to 'auto' in 1.4. Set the value of `n_init` explicitly to suppress the warning\n",
            "  warnings.warn(\n",
            "/usr/local/lib/python3.9/dist-packages/sklearn/cluster/_kmeans.py:870: FutureWarning: The default value of `n_init` will change from 10 to 'auto' in 1.4. Set the value of `n_init` explicitly to suppress the warning\n",
            "  warnings.warn(\n",
            "/usr/local/lib/python3.9/dist-packages/sklearn/cluster/_kmeans.py:870: FutureWarning: The default value of `n_init` will change from 10 to 'auto' in 1.4. Set the value of `n_init` explicitly to suppress the warning\n",
            "  warnings.warn(\n",
            "/usr/local/lib/python3.9/dist-packages/sklearn/cluster/_kmeans.py:870: FutureWarning: The default value of `n_init` will change from 10 to 'auto' in 1.4. Set the value of `n_init` explicitly to suppress the warning\n",
            "  warnings.warn(\n",
            "/usr/local/lib/python3.9/dist-packages/sklearn/cluster/_kmeans.py:870: FutureWarning: The default value of `n_init` will change from 10 to 'auto' in 1.4. Set the value of `n_init` explicitly to suppress the warning\n",
            "  warnings.warn(\n",
            "/usr/local/lib/python3.9/dist-packages/sklearn/cluster/_kmeans.py:870: FutureWarning: The default value of `n_init` will change from 10 to 'auto' in 1.4. Set the value of `n_init` explicitly to suppress the warning\n",
            "  warnings.warn(\n",
            "/usr/local/lib/python3.9/dist-packages/sklearn/cluster/_kmeans.py:870: FutureWarning: The default value of `n_init` will change from 10 to 'auto' in 1.4. Set the value of `n_init` explicitly to suppress the warning\n",
            "  warnings.warn(\n",
            "/usr/local/lib/python3.9/dist-packages/sklearn/cluster/_kmeans.py:870: FutureWarning: The default value of `n_init` will change from 10 to 'auto' in 1.4. Set the value of `n_init` explicitly to suppress the warning\n",
            "  warnings.warn(\n",
            "/usr/local/lib/python3.9/dist-packages/sklearn/cluster/_kmeans.py:870: FutureWarning: The default value of `n_init` will change from 10 to 'auto' in 1.4. Set the value of `n_init` explicitly to suppress the warning\n",
            "  warnings.warn(\n",
            "/usr/local/lib/python3.9/dist-packages/sklearn/cluster/_kmeans.py:870: FutureWarning: The default value of `n_init` will change from 10 to 'auto' in 1.4. Set the value of `n_init` explicitly to suppress the warning\n",
            "  warnings.warn(\n",
            "/usr/local/lib/python3.9/dist-packages/sklearn/cluster/_kmeans.py:870: FutureWarning: The default value of `n_init` will change from 10 to 'auto' in 1.4. Set the value of `n_init` explicitly to suppress the warning\n",
            "  warnings.warn(\n",
            "/usr/local/lib/python3.9/dist-packages/sklearn/cluster/_kmeans.py:870: FutureWarning: The default value of `n_init` will change from 10 to 'auto' in 1.4. Set the value of `n_init` explicitly to suppress the warning\n",
            "  warnings.warn(\n",
            "/usr/local/lib/python3.9/dist-packages/sklearn/cluster/_kmeans.py:870: FutureWarning: The default value of `n_init` will change from 10 to 'auto' in 1.4. Set the value of `n_init` explicitly to suppress the warning\n",
            "  warnings.warn(\n",
            "/usr/local/lib/python3.9/dist-packages/sklearn/cluster/_kmeans.py:870: FutureWarning: The default value of `n_init` will change from 10 to 'auto' in 1.4. Set the value of `n_init` explicitly to suppress the warning\n",
            "  warnings.warn(\n",
            "/usr/local/lib/python3.9/dist-packages/sklearn/cluster/_kmeans.py:870: FutureWarning: The default value of `n_init` will change from 10 to 'auto' in 1.4. Set the value of `n_init` explicitly to suppress the warning\n",
            "  warnings.warn(\n",
            "/usr/local/lib/python3.9/dist-packages/sklearn/cluster/_kmeans.py:870: FutureWarning: The default value of `n_init` will change from 10 to 'auto' in 1.4. Set the value of `n_init` explicitly to suppress the warning\n",
            "  warnings.warn(\n",
            "/usr/local/lib/python3.9/dist-packages/sklearn/cluster/_kmeans.py:870: FutureWarning: The default value of `n_init` will change from 10 to 'auto' in 1.4. Set the value of `n_init` explicitly to suppress the warning\n",
            "  warnings.warn(\n",
            "/usr/local/lib/python3.9/dist-packages/sklearn/cluster/_kmeans.py:870: FutureWarning: The default value of `n_init` will change from 10 to 'auto' in 1.4. Set the value of `n_init` explicitly to suppress the warning\n",
            "  warnings.warn(\n",
            "/usr/local/lib/python3.9/dist-packages/sklearn/cluster/_kmeans.py:870: FutureWarning: The default value of `n_init` will change from 10 to 'auto' in 1.4. Set the value of `n_init` explicitly to suppress the warning\n",
            "  warnings.warn(\n",
            "/usr/local/lib/python3.9/dist-packages/sklearn/cluster/_kmeans.py:870: FutureWarning: The default value of `n_init` will change from 10 to 'auto' in 1.4. Set the value of `n_init` explicitly to suppress the warning\n",
            "  warnings.warn(\n",
            "/usr/local/lib/python3.9/dist-packages/sklearn/cluster/_kmeans.py:870: FutureWarning: The default value of `n_init` will change from 10 to 'auto' in 1.4. Set the value of `n_init` explicitly to suppress the warning\n",
            "  warnings.warn(\n",
            "/usr/local/lib/python3.9/dist-packages/sklearn/cluster/_kmeans.py:870: FutureWarning: The default value of `n_init` will change from 10 to 'auto' in 1.4. Set the value of `n_init` explicitly to suppress the warning\n",
            "  warnings.warn(\n",
            "/usr/local/lib/python3.9/dist-packages/sklearn/cluster/_kmeans.py:870: FutureWarning: The default value of `n_init` will change from 10 to 'auto' in 1.4. Set the value of `n_init` explicitly to suppress the warning\n",
            "  warnings.warn(\n",
            "/usr/local/lib/python3.9/dist-packages/sklearn/cluster/_kmeans.py:870: FutureWarning: The default value of `n_init` will change from 10 to 'auto' in 1.4. Set the value of `n_init` explicitly to suppress the warning\n",
            "  warnings.warn(\n",
            "/usr/local/lib/python3.9/dist-packages/sklearn/cluster/_kmeans.py:870: FutureWarning: The default value of `n_init` will change from 10 to 'auto' in 1.4. Set the value of `n_init` explicitly to suppress the warning\n",
            "  warnings.warn(\n",
            "/usr/local/lib/python3.9/dist-packages/sklearn/cluster/_kmeans.py:870: FutureWarning: The default value of `n_init` will change from 10 to 'auto' in 1.4. Set the value of `n_init` explicitly to suppress the warning\n",
            "  warnings.warn(\n",
            "/usr/local/lib/python3.9/dist-packages/sklearn/cluster/_kmeans.py:870: FutureWarning: The default value of `n_init` will change from 10 to 'auto' in 1.4. Set the value of `n_init` explicitly to suppress the warning\n",
            "  warnings.warn(\n",
            "/usr/local/lib/python3.9/dist-packages/sklearn/cluster/_kmeans.py:870: FutureWarning: The default value of `n_init` will change from 10 to 'auto' in 1.4. Set the value of `n_init` explicitly to suppress the warning\n",
            "  warnings.warn(\n",
            "/usr/local/lib/python3.9/dist-packages/sklearn/cluster/_kmeans.py:870: FutureWarning: The default value of `n_init` will change from 10 to 'auto' in 1.4. Set the value of `n_init` explicitly to suppress the warning\n",
            "  warnings.warn(\n",
            "/usr/local/lib/python3.9/dist-packages/sklearn/cluster/_kmeans.py:870: FutureWarning: The default value of `n_init` will change from 10 to 'auto' in 1.4. Set the value of `n_init` explicitly to suppress the warning\n",
            "  warnings.warn(\n",
            "/usr/local/lib/python3.9/dist-packages/sklearn/cluster/_kmeans.py:870: FutureWarning: The default value of `n_init` will change from 10 to 'auto' in 1.4. Set the value of `n_init` explicitly to suppress the warning\n",
            "  warnings.warn(\n",
            "/usr/local/lib/python3.9/dist-packages/sklearn/cluster/_kmeans.py:870: FutureWarning: The default value of `n_init` will change from 10 to 'auto' in 1.4. Set the value of `n_init` explicitly to suppress the warning\n",
            "  warnings.warn(\n",
            "/usr/local/lib/python3.9/dist-packages/sklearn/cluster/_kmeans.py:870: FutureWarning: The default value of `n_init` will change from 10 to 'auto' in 1.4. Set the value of `n_init` explicitly to suppress the warning\n",
            "  warnings.warn(\n",
            "/usr/local/lib/python3.9/dist-packages/sklearn/cluster/_kmeans.py:870: FutureWarning: The default value of `n_init` will change from 10 to 'auto' in 1.4. Set the value of `n_init` explicitly to suppress the warning\n",
            "  warnings.warn(\n",
            "/usr/local/lib/python3.9/dist-packages/sklearn/cluster/_kmeans.py:870: FutureWarning: The default value of `n_init` will change from 10 to 'auto' in 1.4. Set the value of `n_init` explicitly to suppress the warning\n",
            "  warnings.warn(\n",
            "/usr/local/lib/python3.9/dist-packages/sklearn/cluster/_kmeans.py:870: FutureWarning: The default value of `n_init` will change from 10 to 'auto' in 1.4. Set the value of `n_init` explicitly to suppress the warning\n",
            "  warnings.warn(\n",
            "/usr/local/lib/python3.9/dist-packages/sklearn/cluster/_kmeans.py:870: FutureWarning: The default value of `n_init` will change from 10 to 'auto' in 1.4. Set the value of `n_init` explicitly to suppress the warning\n",
            "  warnings.warn(\n",
            "/usr/local/lib/python3.9/dist-packages/sklearn/cluster/_kmeans.py:870: FutureWarning: The default value of `n_init` will change from 10 to 'auto' in 1.4. Set the value of `n_init` explicitly to suppress the warning\n",
            "  warnings.warn(\n",
            "/usr/local/lib/python3.9/dist-packages/sklearn/cluster/_kmeans.py:870: FutureWarning: The default value of `n_init` will change from 10 to 'auto' in 1.4. Set the value of `n_init` explicitly to suppress the warning\n",
            "  warnings.warn(\n",
            "/usr/local/lib/python3.9/dist-packages/sklearn/cluster/_kmeans.py:870: FutureWarning: The default value of `n_init` will change from 10 to 'auto' in 1.4. Set the value of `n_init` explicitly to suppress the warning\n",
            "  warnings.warn(\n",
            "/usr/local/lib/python3.9/dist-packages/sklearn/cluster/_kmeans.py:870: FutureWarning: The default value of `n_init` will change from 10 to 'auto' in 1.4. Set the value of `n_init` explicitly to suppress the warning\n",
            "  warnings.warn(\n",
            "/usr/local/lib/python3.9/dist-packages/sklearn/cluster/_kmeans.py:870: FutureWarning: The default value of `n_init` will change from 10 to 'auto' in 1.4. Set the value of `n_init` explicitly to suppress the warning\n",
            "  warnings.warn(\n",
            "/usr/local/lib/python3.9/dist-packages/sklearn/cluster/_kmeans.py:870: FutureWarning: The default value of `n_init` will change from 10 to 'auto' in 1.4. Set the value of `n_init` explicitly to suppress the warning\n",
            "  warnings.warn(\n",
            "/usr/local/lib/python3.9/dist-packages/sklearn/cluster/_kmeans.py:870: FutureWarning: The default value of `n_init` will change from 10 to 'auto' in 1.4. Set the value of `n_init` explicitly to suppress the warning\n",
            "  warnings.warn(\n",
            "/usr/local/lib/python3.9/dist-packages/sklearn/cluster/_kmeans.py:870: FutureWarning: The default value of `n_init` will change from 10 to 'auto' in 1.4. Set the value of `n_init` explicitly to suppress the warning\n",
            "  warnings.warn(\n",
            "/usr/local/lib/python3.9/dist-packages/sklearn/cluster/_kmeans.py:870: FutureWarning: The default value of `n_init` will change from 10 to 'auto' in 1.4. Set the value of `n_init` explicitly to suppress the warning\n",
            "  warnings.warn(\n",
            "/usr/local/lib/python3.9/dist-packages/sklearn/cluster/_kmeans.py:870: FutureWarning: The default value of `n_init` will change from 10 to 'auto' in 1.4. Set the value of `n_init` explicitly to suppress the warning\n",
            "  warnings.warn(\n",
            "/usr/local/lib/python3.9/dist-packages/sklearn/cluster/_kmeans.py:870: FutureWarning: The default value of `n_init` will change from 10 to 'auto' in 1.4. Set the value of `n_init` explicitly to suppress the warning\n",
            "  warnings.warn(\n",
            "/usr/local/lib/python3.9/dist-packages/sklearn/cluster/_kmeans.py:870: FutureWarning: The default value of `n_init` will change from 10 to 'auto' in 1.4. Set the value of `n_init` explicitly to suppress the warning\n",
            "  warnings.warn(\n",
            "/usr/local/lib/python3.9/dist-packages/sklearn/cluster/_kmeans.py:870: FutureWarning: The default value of `n_init` will change from 10 to 'auto' in 1.4. Set the value of `n_init` explicitly to suppress the warning\n",
            "  warnings.warn(\n",
            "/usr/local/lib/python3.9/dist-packages/sklearn/cluster/_kmeans.py:870: FutureWarning: The default value of `n_init` will change from 10 to 'auto' in 1.4. Set the value of `n_init` explicitly to suppress the warning\n",
            "  warnings.warn(\n",
            "/usr/local/lib/python3.9/dist-packages/sklearn/cluster/_kmeans.py:870: FutureWarning: The default value of `n_init` will change from 10 to 'auto' in 1.4. Set the value of `n_init` explicitly to suppress the warning\n",
            "  warnings.warn(\n",
            "/usr/local/lib/python3.9/dist-packages/sklearn/cluster/_kmeans.py:870: FutureWarning: The default value of `n_init` will change from 10 to 'auto' in 1.4. Set the value of `n_init` explicitly to suppress the warning\n",
            "  warnings.warn(\n",
            "/usr/local/lib/python3.9/dist-packages/sklearn/cluster/_kmeans.py:870: FutureWarning: The default value of `n_init` will change from 10 to 'auto' in 1.4. Set the value of `n_init` explicitly to suppress the warning\n",
            "  warnings.warn(\n",
            "/usr/local/lib/python3.9/dist-packages/sklearn/cluster/_kmeans.py:870: FutureWarning: The default value of `n_init` will change from 10 to 'auto' in 1.4. Set the value of `n_init` explicitly to suppress the warning\n",
            "  warnings.warn(\n",
            "/usr/local/lib/python3.9/dist-packages/sklearn/cluster/_kmeans.py:870: FutureWarning: The default value of `n_init` will change from 10 to 'auto' in 1.4. Set the value of `n_init` explicitly to suppress the warning\n",
            "  warnings.warn(\n",
            "/usr/local/lib/python3.9/dist-packages/sklearn/cluster/_kmeans.py:870: FutureWarning: The default value of `n_init` will change from 10 to 'auto' in 1.4. Set the value of `n_init` explicitly to suppress the warning\n",
            "  warnings.warn(\n",
            "/usr/local/lib/python3.9/dist-packages/sklearn/cluster/_kmeans.py:870: FutureWarning: The default value of `n_init` will change from 10 to 'auto' in 1.4. Set the value of `n_init` explicitly to suppress the warning\n",
            "  warnings.warn(\n",
            "/usr/local/lib/python3.9/dist-packages/sklearn/cluster/_kmeans.py:870: FutureWarning: The default value of `n_init` will change from 10 to 'auto' in 1.4. Set the value of `n_init` explicitly to suppress the warning\n",
            "  warnings.warn(\n",
            "/usr/local/lib/python3.9/dist-packages/sklearn/cluster/_kmeans.py:870: FutureWarning: The default value of `n_init` will change from 10 to 'auto' in 1.4. Set the value of `n_init` explicitly to suppress the warning\n",
            "  warnings.warn(\n",
            "/usr/local/lib/python3.9/dist-packages/sklearn/cluster/_kmeans.py:870: FutureWarning: The default value of `n_init` will change from 10 to 'auto' in 1.4. Set the value of `n_init` explicitly to suppress the warning\n",
            "  warnings.warn(\n",
            "/usr/local/lib/python3.9/dist-packages/sklearn/cluster/_kmeans.py:870: FutureWarning: The default value of `n_init` will change from 10 to 'auto' in 1.4. Set the value of `n_init` explicitly to suppress the warning\n",
            "  warnings.warn(\n",
            "/usr/local/lib/python3.9/dist-packages/sklearn/cluster/_kmeans.py:870: FutureWarning: The default value of `n_init` will change from 10 to 'auto' in 1.4. Set the value of `n_init` explicitly to suppress the warning\n",
            "  warnings.warn(\n",
            "/usr/local/lib/python3.9/dist-packages/sklearn/cluster/_kmeans.py:870: FutureWarning: The default value of `n_init` will change from 10 to 'auto' in 1.4. Set the value of `n_init` explicitly to suppress the warning\n",
            "  warnings.warn(\n",
            "/usr/local/lib/python3.9/dist-packages/sklearn/cluster/_kmeans.py:870: FutureWarning: The default value of `n_init` will change from 10 to 'auto' in 1.4. Set the value of `n_init` explicitly to suppress the warning\n",
            "  warnings.warn(\n",
            "/usr/local/lib/python3.9/dist-packages/sklearn/cluster/_kmeans.py:870: FutureWarning: The default value of `n_init` will change from 10 to 'auto' in 1.4. Set the value of `n_init` explicitly to suppress the warning\n",
            "  warnings.warn(\n",
            "/usr/local/lib/python3.9/dist-packages/sklearn/cluster/_kmeans.py:870: FutureWarning: The default value of `n_init` will change from 10 to 'auto' in 1.4. Set the value of `n_init` explicitly to suppress the warning\n",
            "  warnings.warn(\n",
            "/usr/local/lib/python3.9/dist-packages/sklearn/cluster/_kmeans.py:870: FutureWarning: The default value of `n_init` will change from 10 to 'auto' in 1.4. Set the value of `n_init` explicitly to suppress the warning\n",
            "  warnings.warn(\n",
            "/usr/local/lib/python3.9/dist-packages/sklearn/cluster/_kmeans.py:870: FutureWarning: The default value of `n_init` will change from 10 to 'auto' in 1.4. Set the value of `n_init` explicitly to suppress the warning\n",
            "  warnings.warn(\n",
            "/usr/local/lib/python3.9/dist-packages/sklearn/cluster/_kmeans.py:870: FutureWarning: The default value of `n_init` will change from 10 to 'auto' in 1.4. Set the value of `n_init` explicitly to suppress the warning\n",
            "  warnings.warn(\n",
            "/usr/local/lib/python3.9/dist-packages/sklearn/cluster/_kmeans.py:870: FutureWarning: The default value of `n_init` will change from 10 to 'auto' in 1.4. Set the value of `n_init` explicitly to suppress the warning\n",
            "  warnings.warn(\n",
            "/usr/local/lib/python3.9/dist-packages/sklearn/cluster/_kmeans.py:870: FutureWarning: The default value of `n_init` will change from 10 to 'auto' in 1.4. Set the value of `n_init` explicitly to suppress the warning\n",
            "  warnings.warn(\n",
            "/usr/local/lib/python3.9/dist-packages/sklearn/cluster/_kmeans.py:870: FutureWarning: The default value of `n_init` will change from 10 to 'auto' in 1.4. Set the value of `n_init` explicitly to suppress the warning\n",
            "  warnings.warn(\n",
            "/usr/local/lib/python3.9/dist-packages/sklearn/cluster/_kmeans.py:870: FutureWarning: The default value of `n_init` will change from 10 to 'auto' in 1.4. Set the value of `n_init` explicitly to suppress the warning\n",
            "  warnings.warn(\n",
            "/usr/local/lib/python3.9/dist-packages/sklearn/cluster/_kmeans.py:870: FutureWarning: The default value of `n_init` will change from 10 to 'auto' in 1.4. Set the value of `n_init` explicitly to suppress the warning\n",
            "  warnings.warn(\n",
            "/usr/local/lib/python3.9/dist-packages/sklearn/cluster/_kmeans.py:870: FutureWarning: The default value of `n_init` will change from 10 to 'auto' in 1.4. Set the value of `n_init` explicitly to suppress the warning\n",
            "  warnings.warn(\n",
            "/usr/local/lib/python3.9/dist-packages/sklearn/cluster/_kmeans.py:870: FutureWarning: The default value of `n_init` will change from 10 to 'auto' in 1.4. Set the value of `n_init` explicitly to suppress the warning\n",
            "  warnings.warn(\n",
            "/usr/local/lib/python3.9/dist-packages/sklearn/cluster/_kmeans.py:870: FutureWarning: The default value of `n_init` will change from 10 to 'auto' in 1.4. Set the value of `n_init` explicitly to suppress the warning\n",
            "  warnings.warn(\n",
            "/usr/local/lib/python3.9/dist-packages/sklearn/cluster/_kmeans.py:870: FutureWarning: The default value of `n_init` will change from 10 to 'auto' in 1.4. Set the value of `n_init` explicitly to suppress the warning\n",
            "  warnings.warn(\n",
            "/usr/local/lib/python3.9/dist-packages/sklearn/cluster/_kmeans.py:870: FutureWarning: The default value of `n_init` will change from 10 to 'auto' in 1.4. Set the value of `n_init` explicitly to suppress the warning\n",
            "  warnings.warn(\n",
            "/usr/local/lib/python3.9/dist-packages/sklearn/cluster/_kmeans.py:870: FutureWarning: The default value of `n_init` will change from 10 to 'auto' in 1.4. Set the value of `n_init` explicitly to suppress the warning\n",
            "  warnings.warn(\n",
            "/usr/local/lib/python3.9/dist-packages/sklearn/cluster/_kmeans.py:870: FutureWarning: The default value of `n_init` will change from 10 to 'auto' in 1.4. Set the value of `n_init` explicitly to suppress the warning\n",
            "  warnings.warn(\n"
          ]
        },
        {
          "output_type": "display_data",
          "data": {
            "text/plain": [
              "<Figure size 432x288 with 1 Axes>"
            ],
            "image/png": "[encoded data removed]"
          },
          "metadata": {
            "needs_background": "light"
          }
        }
      ]
    },
    {
      "cell_type": "code",
      "source": [
        "# Perform k-means clustering and vector quantization\n",
        "from scipy.cluster.vq import kmeans, vq\n",
        "\n",
        "k = 100  #k means with 100 clusters is the elbow point\n",
        "voc, variance = kmeans(descriptors_float, k, 1) #voc is cluster centre"
      ],
      "metadata": {
        "id": "3hAxYvuD-2JL"
      },
      "execution_count": 32,
      "outputs": []
    },
    {
      "cell_type": "code",
      "source": [
        "# Calculate the histogram of features and represent them as vector\n",
        "#vq Assigns codes from a code book to observations.\n",
        "im_features = np.zeros((len(image_paths), k), \"float32\")  # Initialize an empty numpy array to store the histogram of visual word occurrences for each image\n",
        "for i in range(len(image_paths)):  # Loop through each image in the dataset\n",
        "    words, distance = vq(des_list[i][1],voc)  # Quantize the descriptors of the current image using the visual vocabulary\n",
        "    for w in words:  # Loop through the visual words in the quantized descriptor array\n",
        "        im_features[i][w] += 1  # Increment the corresponding bin in the histogram of visual word occurrences\n",
        "\n",
        "\n"
      ],
      "metadata": {
        "id": "ENDeRxqL3GAz"
      },
      "execution_count": 33,
      "outputs": []
    },
    {
      "cell_type": "code",
      "source": [
        "# Scaling the words\n",
        "#Standardize features by removing the mean and scaling to unit variance\n",
        "#In a way normalization\n",
        "from sklearn.preprocessing import StandardScaler\n",
        "stdSlr = StandardScaler().fit(im_features)\n",
        "im_features = stdSlr.transform(im_features)"
      ],
      "metadata": {
        "id": "yQ3ZJzej3KTu"
      },
      "execution_count": 34,
      "outputs": []
    },
    {
      "cell_type": "code",
      "source": [
        "########################################\n",
        "# Define a range of possible values for gamma, C, and kernel\n",
        "from sklearn.model_selection import GridSearchCV\n",
        "from sklearn import svm\n",
        "gamma_range = [0.1, 1, 10]\n",
        "C_range = [0.1, 1, 10]\n",
        "kernel_range = ['linear', 'rbf', 'poly','sigmoid']\n",
        "# Define the SVM classifier\n",
        "clf_svm = svm.SVC()\n",
        "\n",
        "# Define the hyperparameter grid to search over\n",
        "param_grid = {'gamma': gamma_range, 'C': C_range, 'kernel': kernel_range}\n",
        "# Perform grid search cross-validation to select the best hyperparameters\n",
        "grid_search = GridSearchCV(clf_svm, param_grid, cv=5)\n",
        "grid_search.fit(im_features, np.array(image_classes))\n",
        "# Print the best hyperparameter values and the corresponding cross-validation score\n",
        "print(\"Best gamma:\", grid_search.best_params_['gamma'])\n",
        "print(\"Best C:\", grid_search.best_params_['C'])\n",
        "print(\"Best kernel:\", grid_search.best_params_['kernel'])\n",
        "print(\"Best cross-validation score:\", grid_search.best_score_)"
      ],
      "metadata": {
        "colab": {
          "base_uri": "https://localhost:8080/"
        },
        "id": "1uTO0O6F3M_T",
        "outputId": "42193355-6900-41f0-afcf-f81bb3b893bf"
      },
      "execution_count": 35,
      "outputs": [
        {
          "output_type": "stream",
          "name": "stdout",
          "text": [
            "Best gamma: 0.1\n",
            "Best C: 0.1\n",
            "Best kernel: sigmoid\n",
            "Best cross-validation score: 0.9318181818181819\n"
          ]
        }
      ]
    },
    {
      "cell_type": "code",
      "source": [
        "###########################################################\n",
        "from sklearn.svm import SVC\n",
        "# train the SVM classifier with best hyperparameters\n",
        "svm_best = SVC(C=grid_search.best_params_['C'],\n",
        "               kernel=grid_search.best_params_['kernel'],\n",
        "               gamma=grid_search.best_params_['gamma'])\n",
        "svm_best.fit(im_features, np.array(image_classes))"
      ],
      "metadata": {
        "colab": {
          "base_uri": "https://localhost:8080/",
          "height": 75
        },
        "id": "s1TiMvnv3SGJ",
        "outputId": "782d27c9-16ab-4810-c5ee-bf05fb631a01"
      },
      "execution_count": 36,
      "outputs": [
        {
          "output_type": "execute_result",
          "data": {
            "text/plain": [
              "SVC(C=0.1, gamma=0.1, kernel='sigmoid')"
            ],
            "text/html": [
              "<style>#sk-container-id-3 {color: black;background-color: white;}#sk-container-id-3 pre{padding: 0;}#sk-container-id-3 div.sk-toggleable {background-color: white;}#sk-container-id-3 label.sk-toggleable__label {cursor: pointer;display: block;width: 100%;margin-bottom: 0;padding: 0.3em;box-sizing: border-box;text-align: center;}#sk-container-id-3 label.sk-toggleable__label-arrow:before {content: \"▸\";float: left;margin-right: 0.25em;color: #696969;}#sk-container-id-3 label.sk-toggleable__label-arrow:hover:before {color: black;}#sk-container-id-3 div.sk-estimator:hover label.sk-toggleable__label-arrow:before {color: black;}#sk-container-id-3 div.sk-toggleable__content {max-height: 0;max-width: 0;overflow: hidden;text-align: left;background-color: #f0f8ff;}#sk-container-id-3 div.sk-toggleable__content pre {margin: 0.2em;color: black;border-radius: 0.25em;background-color: #f0f8ff;}#sk-container-id-3 input.sk-toggleable__control:checked~div.sk-toggleable__content {max-height: 200px;max-width: 100%;overflow: auto;}#sk-container-id-3 input.sk-toggleable__control:checked~label.sk-toggleable__label-arrow:before {content: \"▾\";}#sk-container-id-3 div.sk-estimator input.sk-toggleable__control:checked~label.sk-toggleable__label {background-color: #d4ebff;}#sk-container-id-3 div.sk-label input.sk-toggleable__control:checked~label.sk-toggleable__label {background-color: #d4ebff;}#sk-container-id-3 input.sk-hidden--visually {border: 0;clip: rect(1px 1px 1px 1px);clip: rect(1px, 1px, 1px, 1px);height: 1px;margin: -1px;overflow: hidden;padding: 0;position: absolute;width: 1px;}#sk-container-id-3 div.sk-estimator {font-family: monospace;background-color: #f0f8ff;border: 1px dotted black;border-radius: 0.25em;box-sizing: border-box;margin-bottom: 0.5em;}#sk-container-id-3 div.sk-estimator:hover {background-color: #d4ebff;}#sk-container-id-3 div.sk-parallel-item::after {content: \"\";width: 100%;border-bottom: 1px solid gray;flex-grow: 1;}#sk-container-id-3 div.sk-label:hover label.sk-toggleable__label {background-color: #d4ebff;}#sk-container-id-3 div.sk-serial::before {content: \"\";position: absolute;border-left: 1px solid gray;box-sizing: border-box;top: 0;bottom: 0;left: 50%;z-index: 0;}#sk-container-id-3 div.sk-serial {display: flex;flex-direction: column;align-items: center;background-color: white;padding-right: 0.2em;padding-left: 0.2em;position: relative;}#sk-container-id-3 div.sk-item {position: relative;z-index: 1;}#sk-container-id-3 div.sk-parallel {display: flex;align-items: stretch;justify-content: center;background-color: white;position: relative;}#sk-container-id-3 div.sk-item::before, #sk-container-id-3 div.sk-parallel-item::before {content: \"\";position: absolute;border-left: 1px solid gray;box-sizing: border-box;top: 0;bottom: 0;left: 50%;z-index: -1;}#sk-container-id-3 div.sk-parallel-item {display: flex;flex-direction: column;z-index: 1;position: relative;background-color: white;}#sk-container-id-3 div.sk-parallel-item:first-child::after {align-self: flex-end;width: 50%;}#sk-container-id-3 div.sk-parallel-item:last-child::after {align-self: flex-start;width: 50%;}#sk-container-id-3 div.sk-parallel-item:only-child::after {width: 0;}#sk-container-id-3 div.sk-dashed-wrapped {border: 1px dashed gray;margin: 0 0.4em 0.5em 0.4em;box-sizing: border-box;padding-bottom: 0.4em;background-color: white;}#sk-container-id-3 div.sk-label label {font-family: monospace;font-weight: bold;display: inline-block;line-height: 1.2em;}#sk-container-id-3 div.sk-label-container {text-align: center;}#sk-container-id-3 div.sk-container {/* jupyter's `normalize.less` sets `[hidden] { display: none; }` but bootstrap.min.css set `[hidden] { display: none !important; }` so we also need the `!important` here to be able to override the default hidden behavior on the sphinx rendered scikit-learn.org. See: https://github.com/scikit-learn/scikit-learn/issues/21755 */display: inline-block !important;position: relative;}#sk-container-id-3 div.sk-text-repr-fallback {display: none;}</style><div id=\"sk-container-id-3\" class=\"sk-top-container\"><div class=\"sk-text-repr-fallback\"><pre>SVC(C=0.1, gamma=0.1, kernel=&#x27;sigmoid&#x27;)</pre><b>In a Jupyter environment, please rerun this cell to show the HTML representation or trust the notebook. <br />On GitHub, the HTML representation is unable to render, please try loading this page with nbviewer.org.</b></div><div class=\"sk-container\" hidden><div class=\"sk-item\"><div class=\"sk-estimator sk-toggleable\"><input class=\"sk-toggleable__control sk-hidden--visually\" id=\"sk-estimator-id-3\" type=\"checkbox\" checked><label for=\"sk-estimator-id-3\" class=\"sk-toggleable__label sk-toggleable__label-arrow\">SVC</label><div class=\"sk-toggleable__content\"><pre>SVC(C=0.1, gamma=0.1, kernel=&#x27;sigmoid&#x27;)</pre></div></div></div></div></div>"
            ]
          },
          "metadata": {},
          "execution_count": 36
        }
      ]
    },
    {
      "cell_type": "code",
      "source": [
        "##############################################################\n",
        "#Train Random forest to compare how it does against SVM\n",
        "from sklearn.ensemble import RandomForestClassifier\n",
        "#clf_rf = RandomForestClassifier(n_estimators = 100, random_state=30)\n",
        "#clf_rf.fit(im_features, np.array(image_classes))\n",
        "\n",
        "# create random forest classifier\n",
        "clf_rf = RandomForestClassifier()\n",
        "\n",
        "# specify hyperparameters to tune and their possible values\n",
        "#param_grid = {\n",
        " #   'n_estimators': [100, 200,300,400, 500],\n",
        "  #  'max_depth': [10, 30, 50, None],\n",
        "   # 'min_samples_split': [2, 5, 10],\n",
        "    #'min_samples_leaf': [1, 2, 4],\n",
        "    #'bootstrap': [True, False]\n",
        "#}\n",
        "\n",
        "para_grid = {'n_estimators':np.arange(50, 201, 50),\n",
        "              'criterion':['gini', 'entropy'],\n",
        "              'max_features': ['sqrt', 'log2'],\n",
        "                'max_depth' : np.arange(4,11,1)\n",
        "              }\n",
        "# use GridSearchCV to search for best hyperparameters\n",
        "grid_search = GridSearchCV(estimator=clf_rf, param_grid=param_grid, cv=5, n_jobs=-1)\n",
        "grid_search.fit(im_features, np.array(image_classes))\n",
        "\n",
        "\n",
        "# print best hyperparameters and their score\n",
        "print(\"Best hyperparameters: \", grid_search.best_params_)\n",
        "print(\"Best score: \", grid_search.best_score_)\n"
      ],
      "metadata": {
        "colab": {
          "base_uri": "https://localhost:8080/"
        },
        "id": "WGkmaZzV3aRM",
        "outputId": "04c11037-d8e8-4237-9323-2f25b70dfcd4"
      },
      "execution_count": 41,
      "outputs": [
        {
          "output_type": "stream",
          "name": "stdout",
          "text": [
            "Best hyperparameters:  {'bootstrap': True, 'max_depth': 10, 'min_samples_leaf': 1, 'min_samples_split': 5, 'n_estimators': 100}\n",
            "Best score:  0.9469696969696969\n"
          ]
        }
      ]
    },
    {
      "cell_type": "code",
      "source": [
        "############################################\n",
        "# train the random forest classifier with best hyperparameters\n",
        "rf_best = RandomForestClassifier(n_estimators=grid_search.best_params_['n_estimators'],\n",
        "                                   max_depth=grid_search.best_params_['max_depth'],\n",
        "                                   min_samples_split=grid_search.best_params_['min_samples_split'],\n",
        "                                   min_samples_leaf=grid_search.best_params_['min_samples_leaf'],\n",
        "                                   bootstrap=grid_search.best_params_['bootstrap'])\n",
        "rf_best.fit(im_features, np.array(image_classes))"
      ],
      "metadata": {
        "id": "_fs9A5jd0spj"
      },
      "execution_count": null,
      "outputs": []
    },
    {
      "cell_type": "code",
      "source": [
        "############################################\n",
        "# train the random forest classifier with best hyperparameters\n",
        "rf_best = RandomForestClassifier(n_estimators=grid_search.best_params_['n_estimators'],\n",
        "                                   max_depth=grid_search.best_params_['max_depth'],\n",
        "                                   min_samples_split=grid_search.best_params_['min_samples_split'],\n",
        "                                   min_samples_leaf=grid_search.best_params_['min_samples_leaf'],\n",
        "                                   bootstrap=grid_search.best_params_['bootstrap'])\n",
        "rf_best.fit(im_features, np.array(image_classes))\n",
        "  "
      ],
      "metadata": {
        "colab": {
          "base_uri": "https://localhost:8080/",
          "height": 75
        },
        "id": "Pu-pS9Ye3hi9",
        "outputId": "fe8ec567-1c0a-47ac-a7d1-acb3938b7491"
      },
      "execution_count": 20,
      "outputs": [
        {
          "output_type": "execute_result",
          "data": {
            "text/plain": [
              "RandomForestClassifier(max_depth=30, n_estimators=200)"
            ],
            "text/html": [
              "<style>#sk-container-id-2 {color: black;background-color: white;}#sk-container-id-2 pre{padding: 0;}#sk-container-id-2 div.sk-toggleable {background-color: white;}#sk-container-id-2 label.sk-toggleable__label {cursor: pointer;display: block;width: 100%;margin-bottom: 0;padding: 0.3em;box-sizing: border-box;text-align: center;}#sk-container-id-2 label.sk-toggleable__label-arrow:before {content: \"▸\";float: left;margin-right: 0.25em;color: #696969;}#sk-container-id-2 label.sk-toggleable__label-arrow:hover:before {color: black;}#sk-container-id-2 div.sk-estimator:hover label.sk-toggleable__label-arrow:before {color: black;}#sk-container-id-2 div.sk-toggleable__content {max-height: 0;max-width: 0;overflow: hidden;text-align: left;background-color: #f0f8ff;}#sk-container-id-2 div.sk-toggleable__content pre {margin: 0.2em;color: black;border-radius: 0.25em;background-color: #f0f8ff;}#sk-container-id-2 input.sk-toggleable__control:checked~div.sk-toggleable__content {max-height: 200px;max-width: 100%;overflow: auto;}#sk-container-id-2 input.sk-toggleable__control:checked~label.sk-toggleable__label-arrow:before {content: \"▾\";}#sk-container-id-2 div.sk-estimator input.sk-toggleable__control:checked~label.sk-toggleable__label {background-color: #d4ebff;}#sk-container-id-2 div.sk-label input.sk-toggleable__control:checked~label.sk-toggleable__label {background-color: #d4ebff;}#sk-container-id-2 input.sk-hidden--visually {border: 0;clip: rect(1px 1px 1px 1px);clip: rect(1px, 1px, 1px, 1px);height: 1px;margin: -1px;overflow: hidden;padding: 0;position: absolute;width: 1px;}#sk-container-id-2 div.sk-estimator {font-family: monospace;background-color: #f0f8ff;border: 1px dotted black;border-radius: 0.25em;box-sizing: border-box;margin-bottom: 0.5em;}#sk-container-id-2 div.sk-estimator:hover {background-color: #d4ebff;}#sk-container-id-2 div.sk-parallel-item::after {content: \"\";width: 100%;border-bottom: 1px solid gray;flex-grow: 1;}#sk-container-id-2 div.sk-label:hover label.sk-toggleable__label {background-color: #d4ebff;}#sk-container-id-2 div.sk-serial::before {content: \"\";position: absolute;border-left: 1px solid gray;box-sizing: border-box;top: 0;bottom: 0;left: 50%;z-index: 0;}#sk-container-id-2 div.sk-serial {display: flex;flex-direction: column;align-items: center;background-color: white;padding-right: 0.2em;padding-left: 0.2em;position: relative;}#sk-container-id-2 div.sk-item {position: relative;z-index: 1;}#sk-container-id-2 div.sk-parallel {display: flex;align-items: stretch;justify-content: center;background-color: white;position: relative;}#sk-container-id-2 div.sk-item::before, #sk-container-id-2 div.sk-parallel-item::before {content: \"\";position: absolute;border-left: 1px solid gray;box-sizing: border-box;top: 0;bottom: 0;left: 50%;z-index: -1;}#sk-container-id-2 div.sk-parallel-item {display: flex;flex-direction: column;z-index: 1;position: relative;background-color: white;}#sk-container-id-2 div.sk-parallel-item:first-child::after {align-self: flex-end;width: 50%;}#sk-container-id-2 div.sk-parallel-item:last-child::after {align-self: flex-start;width: 50%;}#sk-container-id-2 div.sk-parallel-item:only-child::after {width: 0;}#sk-container-id-2 div.sk-dashed-wrapped {border: 1px dashed gray;margin: 0 0.4em 0.5em 0.4em;box-sizing: border-box;padding-bottom: 0.4em;background-color: white;}#sk-container-id-2 div.sk-label label {font-family: monospace;font-weight: bold;display: inline-block;line-height: 1.2em;}#sk-container-id-2 div.sk-label-container {text-align: center;}#sk-container-id-2 div.sk-container {/* jupyter's `normalize.less` sets `[hidden] { display: none; }` but bootstrap.min.css set `[hidden] { display: none !important; }` so we also need the `!important` here to be able to override the default hidden behavior on the sphinx rendered scikit-learn.org. See: https://github.com/scikit-learn/scikit-learn/issues/21755 */display: inline-block !important;position: relative;}#sk-container-id-2 div.sk-text-repr-fallback {display: none;}</style><div id=\"sk-container-id-2\" class=\"sk-top-container\"><div class=\"sk-text-repr-fallback\"><pre>RandomForestClassifier(max_depth=30, n_estimators=200)</pre><b>In a Jupyter environment, please rerun this cell to show the HTML representation or trust the notebook. <br />On GitHub, the HTML representation is unable to render, please try loading this page with nbviewer.org.</b></div><div class=\"sk-container\" hidden><div class=\"sk-item\"><div class=\"sk-estimator sk-toggleable\"><input class=\"sk-toggleable__control sk-hidden--visually\" id=\"sk-estimator-id-2\" type=\"checkbox\" checked><label for=\"sk-estimator-id-2\" class=\"sk-toggleable__label sk-toggleable__label-arrow\">RandomForestClassifier</label><div class=\"sk-toggleable__content\"><pre>RandomForestClassifier(max_depth=30, n_estimators=200)</pre></div></div></div></div></div>"
            ]
          },
          "metadata": {},
          "execution_count": 20
        }
      ]
    },
    {
      "cell_type": "markdown",
      "source": [],
      "metadata": {
        "id": "2PRD_QEy4nwO"
      }
    },
    {
      "cell_type": "code",
      "source": [
        "# Save the model\n",
        "#Joblib dumps Python object into one file\n",
        "\n",
        "joblib.dump((svm_best, training_names, stdSlr, k, voc), \"bovw_svm_obj.pkl\", compress=3)    \n",
        "joblib.dump((rf_best, training_names, stdSlr, k, voc), \"bovw_rf_obj.pkl\", compress=3)"
      ],
      "metadata": {
        "colab": {
          "base_uri": "https://localhost:8080/"
        },
        "id": "V6WireZY4o3a",
        "outputId": "18b1c261-de85-49e1-9046-30c5dec0b681"
      },
      "execution_count": 21,
      "outputs": [
        {
          "output_type": "execute_result",
          "data": {
            "text/plain": [
              "['bovw_rf_obj.pkl']"
            ]
          },
          "metadata": {},
          "execution_count": 21
        }
      ]
    },
    {
      "cell_type": "code",
      "source": [
        "# Load the classifier, class names, scaler, number of clusters and vocabulary \n",
        "#from stored pickle file (generated during training)\n",
        "clf_svm, classes_names_svm, stdSlr_svm, k_svm, voc_svm = joblib.load(\"bovw_svm_obj.pkl\")\n",
        "clf_rf , classes_names_rf , stdSlr_rf , k_rf , voc_rf = joblib.load(\"bovw_rf_obj.pkl\")"
      ],
      "metadata": {
        "id": "C16H0E4D3l15"
      },
      "execution_count": 22,
      "outputs": []
    },
    {
      "cell_type": "code",
      "source": [
        "# Get the path of the testing image(s) and store them in a list\n",
        "test_path = '/content/drive/MyDrive/Object_Dataset/test'  # Folder Names are Parasitized and Uninfected\n",
        "#instead of test if you use train then we get great accuracy\n",
        "\n",
        "testing_names = os.listdir(test_path)\n",
        "\n",
        "# Get path to all images and save them in a list\n",
        "# image_paths and the corresponding label in image_paths\n",
        "image_paths = []\n",
        "image_classes = []\n",
        "class_id = 0\n",
        "\n",
        "#To make it easy to list all file names in a directory let us define a function\n",
        "#\n",
        "def imglist(path):\n",
        "    return [os.path.join(path, f) for f in os.listdir(path)]\n",
        "\n",
        "#Fill the placeholder empty lists with image path, classes, and add class ID number\n",
        "\n",
        "for testing_name in testing_names:\n",
        "    dir = os.path.join(test_path, testing_name)\n",
        "    class_path = imglist(dir)\n",
        "    image_paths+=class_path\n",
        "    image_classes+=[class_id]*len(class_path)\n",
        "    class_id+=1\n"
      ],
      "metadata": {
        "id": "-dW3Ptqd3x-7"
      },
      "execution_count": 24,
      "outputs": []
    },
    {
      "cell_type": "code",
      "source": [
        "des_list = []\n",
        "\n",
        "sift = cv2.SIFT_create(40)\n",
        "\n",
        "for image_path in image_paths:\n",
        "    im = cv2.imread(image_path)\n",
        "    kpts, des = sift.detectAndCompute(im, None)\n",
        "    des_list.append((image_path, des))   \n",
        "    \n",
        "# Stack all the descriptors vertically in a numpy array\n",
        "descriptors = des_list[0][1]\n",
        "for image_path, descriptor in des_list[0:]:\n",
        "    descriptors = np.vstack((descriptors, descriptor)) \n",
        "\n",
        "# Calculate the histogram of features\n",
        "#vq Assigns codes from a code book to observations.\n",
        "from scipy.cluster.vq import vq    \n",
        "test_features = np.zeros((len(image_paths), k), \"float32\")\n",
        "for i in range(len(image_paths)):\n",
        "    words, distance = vq(des_list[i][1],voc)\n",
        "    for w in words:\n",
        "        test_features[i][w] += 1\n",
        "\n",
        "# Perform Tf-Idf vectorization\n",
        "nbr_occurences = np.sum( (test_features > 0) * 1, axis = 0)\n",
        "idf = np.array(np.log((1.0*len(image_paths)+1) / (1.0*nbr_occurences + 1)), 'float32')"
      ],
      "metadata": {
        "id": "tboi9LxMV9J7"
      },
      "execution_count": 25,
      "outputs": []
    },
    {
      "cell_type": "code",
      "source": [
        "# Scale the features\n",
        "#Standardize features by removing the mean and scaling to unit variance\n",
        "#Scaler (stdSlr comes from the pickled file we imported)\n",
        "test_features = stdSlr.transform(test_features)"
      ],
      "metadata": {
        "id": "wgJgmcCrV_dQ"
      },
      "execution_count": 26,
      "outputs": []
    },
    {
      "cell_type": "code",
      "source": [
        "#Report true class names so they can be compared with predicted classes\n",
        "true_class =  [classes_names_svm[i] for i in image_classes]\n",
        "# Perform the predictions and report predicted class names. \n",
        "predictions_svm =  [classes_names_svm[i] for i in clf_svm.predict(test_features)]\n",
        "\n",
        "\n",
        "#Print the true class and Predictions \n",
        "print (\"true_class =\"  + str(true_class))\n",
        "print (\"prediction =\"  + str(predictions_svm))\n",
        "\n",
        "###############################################\n",
        "#To make it easy to understand the accuracy let us print the confusion matrix\n",
        "\n",
        "def showconfusionmatrix(cm):\n",
        "    pl.matshow(cm)\n",
        "    pl.title('Confusion Matrix')\n",
        "    pl.colorbar()\n",
        "    pl.show()\n",
        "\n",
        "\n",
        "accuracy_svm = accuracy_score(true_class, predictions_svm)\n",
        "print (\"accuracy = \", accuracy_svm)\n",
        "cm_svm = confusion_matrix(true_class, predictions_svm)\n",
        "print (cm_svm)\n",
        "\n",
        "showconfusionmatrix(cm_svm)\n",
        "###############################################################################\n",
        "#Calculate F1 score\n",
        "from sklearn.metrics import f1_score\n",
        "\n",
        "f1_svm = f1_score(true_class, predictions_svm, average='weighted')\n",
        "print(\"F1 score for SVM:\", f1_svm)\n",
        "\n",
        "#Print classification report\n",
        "from sklearn.metrics import classification_report\n",
        "\n",
        "report_svm = classification_report(true_class, predictions_svm)\n",
        "print(report_svm)"
      ],
      "metadata": {
        "colab": {
          "base_uri": "https://localhost:8080/",
          "height": 601
        },
        "id": "LCrXTiCpWHI0",
        "outputId": "f5fc27ca-bd63-4c10-85b3-8f65ad6635b8"
      },
      "execution_count": 27,
      "outputs": [
        {
          "output_type": "stream",
          "name": "stdout",
          "text": [
            "true_class =['accordion', 'accordion', 'dollar_bill', 'dollar_bill', 'motorbike', 'motorbike', 'Soccer_Ball', 'Soccer_Ball']\n",
            "prediction =['accordion', 'accordion', 'dollar_bill', 'motorbike', 'dollar_bill', 'dollar_bill', 'Soccer_Ball', 'Soccer_Ball']\n",
            "accuracy =  0.625\n",
            "[[2 0 0 0]\n",
            " [0 2 0 0]\n",
            " [0 0 1 1]\n",
            " [0 0 2 0]]\n"
          ]
        },
        {
          "output_type": "display_data",
          "data": {
            "text/plain": [
              "<Figure size 288x288 with 2 Axes>"
            ],
            "image/png": "[encoded data removed]"
          },
          "metadata": {
            "needs_background": "light"
          }
        },
        {
          "output_type": "stream",
          "name": "stdout",
          "text": [
            "F1 score for SVM: 0.6\n",
            "              precision    recall  f1-score   support\n",
            "\n",
            " Soccer_Ball       1.00      1.00      1.00         2\n",
            "   accordion       1.00      1.00      1.00         2\n",
            " dollar_bill       0.33      0.50      0.40         2\n",
            "   motorbike       0.00      0.00      0.00         2\n",
            "\n",
            "    accuracy                           0.62         8\n",
            "   macro avg       0.58      0.62      0.60         8\n",
            "weighted avg       0.58      0.62      0.60         8\n",
            "\n"
          ]
        }
      ]
    },
    {
      "cell_type": "code",
      "source": [
        "#Report true class names so they can be compared with predicted classes\n",
        "true_class =  [classes_names_rf[i] for i in image_classes]\n",
        "# Perform the predictions and report predicted class names. \n",
        "predictions_rf=  [classes_names_rf[i] for i in clf_rf.predict(test_features)]\n",
        "\n",
        "\n",
        "#Print the true class and Predictions \n",
        "print (\"true_class =\"  + str(true_class))\n",
        "print (\"prediction =\"  + str(predictions_rf))\n",
        "\n",
        "###############################################\n",
        "#To make it easy to understand the accuracy let us print the confusion matrix\n",
        "\n",
        "def showconfusionmatrix(cm):\n",
        "    pl.matshow(cm)\n",
        "    pl.title('Confusion Matrix')\n",
        "    pl.colorbar()\n",
        "    pl.show()\n",
        "\n",
        "\n",
        "accuracy_rf = accuracy_score(true_class, predictions_rf)\n",
        "print (\"accuracy = \", accuracy_rf)\n",
        "cm_rf = confusion_matrix(true_class, predictions_rf)\n",
        "print (cm_rf)\n",
        "\n",
        "showconfusionmatrix(cm_rf)\n",
        "###############################################################################\n",
        "#Calculate F1 score\n",
        "from sklearn.metrics import f1_score\n",
        "\n",
        "f1_rf= f1_score(true_class, predictions_rf, average='weighted')\n",
        "print(\"F1 score for RF:\", f1_rf)\n",
        "\n",
        "#Print classification report\n",
        "from sklearn.metrics import classification_report\n",
        "\n",
        "report_rf = classification_report(true_class, predictions_rf)\n",
        "print(report_rf)"
      ],
      "metadata": {
        "colab": {
          "base_uri": "https://localhost:8080/",
          "height": 725
        },
        "id": "aEfa3IlnWL9g",
        "outputId": "60004f4a-c23c-420a-b561-584cefd33ebb"
      },
      "execution_count": 28,
      "outputs": [
        {
          "output_type": "stream",
          "name": "stdout",
          "text": [
            "true_class =['accordion', 'accordion', 'dollar_bill', 'dollar_bill', 'motorbike', 'motorbike', 'Soccer_Ball', 'Soccer_Ball']\n",
            "prediction =['accordion', 'accordion', 'dollar_bill', 'dollar_bill', 'dollar_bill', 'dollar_bill', 'Soccer_Ball', 'Soccer_Ball']\n",
            "accuracy =  0.75\n",
            "[[2 0 0 0]\n",
            " [0 2 0 0]\n",
            " [0 0 2 0]\n",
            " [0 0 2 0]]\n"
          ]
        },
        {
          "output_type": "display_data",
          "data": {
            "text/plain": [
              "<Figure size 288x288 with 2 Axes>"
            ],
            "image/png": "[encoded data removed]"
          },
          "metadata": {
            "needs_background": "light"
          }
        },
        {
          "output_type": "stream",
          "name": "stdout",
          "text": [
            "F1 score for RF: 0.6666666666666666\n",
            "              precision    recall  f1-score   support\n",
            "\n",
            " Soccer_Ball       1.00      1.00      1.00         2\n",
            "   accordion       1.00      1.00      1.00         2\n",
            " dollar_bill       0.50      1.00      0.67         2\n",
            "   motorbike       0.00      0.00      0.00         2\n",
            "\n",
            "    accuracy                           0.75         8\n",
            "   macro avg       0.62      0.75      0.67         8\n",
            "weighted avg       0.62      0.75      0.67         8\n",
            "\n"
          ]
        },
        {
          "output_type": "stream",
          "name": "stderr",
          "text": [
            "/usr/local/lib/python3.9/dist-packages/sklearn/metrics/_classification.py:1344: UndefinedMetricWarning: Precision and F-score are ill-defined and being set to 0.0 in labels with no predicted samples. Use `zero_division` parameter to control this behavior.\n",
            "  _warn_prf(average, modifier, msg_start, len(result))\n",
            "/usr/local/lib/python3.9/dist-packages/sklearn/metrics/_classification.py:1344: UndefinedMetricWarning: Precision and F-score are ill-defined and being set to 0.0 in labels with no predicted samples. Use `zero_division` parameter to control this behavior.\n",
            "  _warn_prf(average, modifier, msg_start, len(result))\n",
            "/usr/local/lib/python3.9/dist-packages/sklearn/metrics/_classification.py:1344: UndefinedMetricWarning: Precision and F-score are ill-defined and being set to 0.0 in labels with no predicted samples. Use `zero_division` parameter to control this behavior.\n",
            "  _warn_prf(average, modifier, msg_start, len(result))\n"
          ]
        }
      ]
    },
    {
      "cell_type": "code",
      "source": [
        "# Inference of single image using RFC\n",
        "import matplotlib.pyplot as plt\n",
        "%matplotlib inline\n",
        "sift = cv2.SIFT_create()\n",
        "an_image = test[\"dollar_bill\"][0]\n",
        "plt.imshow(an_image);\n",
        "kp, des = sift.detectAndCompute(an_image,None)\n",
        "pred = list(test.keys())[make_prediction(des, rfc)]\n",
        "plt.title(f'Original Title: dollar_bill | Predicted Title: {pred}');"
      ],
      "metadata": {
        "id": "Tl0oSNrU5GxQ"
      },
      "execution_count": null,
      "outputs": []
    },
    {
      "cell_type": "code",
      "source": [
        "# Inference of single image using RFC\n",
        "import matplotlib.pyplot as plt\n",
        "%matplotlib inline\n",
        "sift = cv2.SIFT_create()\n",
        "an_image = test[\"accordian\"][0]\n",
        "plt.imshow(an_image);\n",
        "kp, des = sift.detectAndCompute(an_image,None)\n",
        "pred = list(test.keys())[make_prediction(des, rfc)]\n",
        "plt.title(f'Original Title: accordian | Predicted Title: {pred}');"
      ],
      "metadata": {
        "id": "N2aQyuM5hfQD"
      },
      "execution_count": null,
      "outputs": []
    },
    {
      "cell_type": "code",
      "source": [
        "# Inference of single image using SVC\n",
        "import matplotlib.pyplot as plt\n",
        "%matplotlib inline\n",
        "sift = cv2.SIFT_create()\n",
        "an_image = test[\"motorbike\"][0]\n",
        "plt.imshow(an_image);\n",
        "kp, des = sift.detectAndCompute(an_image,None)\n",
        "pred = list(test.keys())[make_prediction(des, svc)]\n",
        "plt.title(f'Original Title: accordian | Predicted Title: {pred}');"
      ],
      "metadata": {
        "id": "4Cm0IUDRhlUw"
      },
      "execution_count": null,
      "outputs": []
    }
  ]
}